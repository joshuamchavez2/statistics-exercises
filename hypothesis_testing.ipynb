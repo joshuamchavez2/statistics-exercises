{
 "cells": [
  {
   "cell_type": "code",
   "execution_count": 29,
   "id": "613b5ece",
   "metadata": {},
   "outputs": [],
   "source": [
    "from math import sqrt\n",
    "from scipy import stats\n",
    "\n",
    "%matplotlib inline\n",
    "import matplotlib.pyplot as plt\n",
    "import numpy as np\n",
    "import pandas as pd\n",
    "from pydataset import data\n",
    "\n",
    " # curriculum visualization examples\n",
    "\n",
    "url = \"https://gist.githubusercontent.com/ryanorsinger/2c13a71421037af127e9fa7fa1463cad/raw/3eb443414078b51af33fdb2d211159e5f3e220ab/exam_scores.csv\"\n",
    "df = pd.read_csv(url)\n",
    "\n",
    "df.study_strategy.fillna('None', inplace=True)"
   ]
  },
  {
   "cell_type": "markdown",
   "id": "cdf26525",
   "metadata": {},
   "source": [
    "***If The P is low reject the Ho***\n"
   ]
  },
  {
   "cell_type": "markdown",
   "id": "2cfbbd79",
   "metadata": {},
   "source": [
    "**False Negative Rate:** P(FN) = P(Type II Error)\n",
    "False Negative: Failing to reject null hypothesis when it is false. \n",
    "i.e. there is a difference but test told you otherwise. \n",
    "\n",
    "**False Positive Rate:** P(FP) = P(Type I Error)\n",
    "False Positive: Said there was a difference where there wasn't. \n",
    "Alpha is your false positive rate."
   ]
  },
  {
   "cell_type": "markdown",
   "id": "bdc9557e",
   "metadata": {},
   "source": [
    "# For each of the following questions, formulate a null and alternative hypothesis (be as specific as you can be), then give an example of what a true positive, true negative, type I and type II errors would look like. Note that some of the questions are intentionally phrased in a vague way. It is your job to reword these as more precise questions that could be tested."
   ]
  },
  {
   "cell_type": "markdown",
   "id": "7f81ab13",
   "metadata": {},
   "source": [
    "## Has the network latency gone up since we switched internet service providers?"
   ]
  },
  {
   "cell_type": "markdown",
   "id": "12dda7dd",
   "metadata": {},
   "source": [
    "Will switching service providers cause network latency to increase?\n",
    "\n",
    "$H_{0}$ Customers switching providers will either drop or not change the latency.\n",
    "\n",
    "$H_{a}$ Cusotmers switching providers will increase network latency\n",
    "\n",
    "P(Type II Error) Would be if the P(latency) was greater than .05 you didn't reject the $H_{0}$\n",
    "\n",
    "P(Type I Error) Would be if the P(latency) was less than .05 and you reject the $H_{0}$"
   ]
  },
  {
   "cell_type": "markdown",
   "id": "a8022c22",
   "metadata": {},
   "source": [
    "## Is the website redesign any good?"
   ]
  },
  {
   "cell_type": "markdown",
   "id": "2ca00e89",
   "metadata": {},
   "source": [
    "Has the website generated more sales since the redesign?"
   ]
  },
  {
   "cell_type": "markdown",
   "id": "8ffb7468",
   "metadata": {},
   "source": [
    "$H_{0}$ The website has generated less or equal amount of sales since the redesign\n",
    "\n",
    "$H_{a}$ The website has gnerated more sales since the redesign\n",
    "\n",
    "P(Type II Error) Would be if the P(Sales) was greater than .05 you didn't reject the $H_{0}$\n",
    "\n",
    "P(Type I Error) Would be if the P(Sales) was less than .05 and you reject the $H_{0}$"
   ]
  },
  {
   "cell_type": "markdown",
   "id": "4e606cc5",
   "metadata": {},
   "source": [
    "## Is our television ad driving more sales?"
   ]
  },
  {
   "cell_type": "markdown",
   "id": "e78fa590",
   "metadata": {},
   "source": [
    "Have we generated more sales since the television ad aired?"
   ]
  },
  {
   "cell_type": "markdown",
   "id": "1b1d693e",
   "metadata": {},
   "source": [
    "$H_{0}$ The television ad has earned less or equal amount of sales since airing\n",
    "\n",
    "$H_{a}$ The television ad has earned more sales since airing.\n",
    "\n",
    "P(Type II Error) Would be if the P(Sales) was greater than .05 you didn't reject the $H_{0}$\n",
    "\n",
    "P(Type I Error) Would be if the P(Sales) was less than .05 and you reject the $H_{0}$"
   ]
  },
  {
   "cell_type": "markdown",
   "id": "e9d365b2",
   "metadata": {},
   "source": [
    "# Ace Realty wants to determine whether the average time it takes to sell homes is different for its two offices."
   ]
  },
  {
   "cell_type": "markdown",
   "id": "b44e90d6",
   "metadata": {},
   "source": [
    "H_o: Office one and office two have the same average time to sell a house"
   ]
  },
  {
   "cell_type": "markdown",
   "id": "e3566251",
   "metadata": {},
   "source": [
    "H_a: Ace office one and office two do not take the same amount of time.  "
   ]
  },
  {
   "cell_type": "code",
   "execution_count": null,
   "id": "06625132",
   "metadata": {},
   "outputs": [],
   "source": []
  },
  {
   "cell_type": "markdown",
   "id": "9ac84532",
   "metadata": {},
   "source": [
    "# A sample of 40 sales from office #1 revealed a mean of 90 days and a standard deviation of 15 days.\n",
    "\n",
    "# A sample of 50 sales from office #2 revealed a mean of 100 days and a standard deviation of 20 days. Use a .05 level of significance."
   ]
  },
  {
   "cell_type": "code",
   "execution_count": 64,
   "id": "94022876",
   "metadata": {},
   "outputs": [],
   "source": [
    "x1 = df[df.study_strategy == 'flashcards'].exam_score\n",
    "x2 = df[df.study_strategy != 'flashcards'].exam_score\n",
    "\n",
    "xbar1 = 90\n",
    "xbar2 = 100\n",
    "\n",
    "n1 = 40\n",
    "n2 = 50\n",
    "\n",
    "s1 = 15\n",
    "s2 = 20\n",
    "\n",
    "degf = n1 + n2 -2 \n",
    "\n",
    "s_p = sqrt(((n1 - 1) * s1**2 + (n2 - 1) * s2**2) / (n1 + n2 - 2))\n",
    "s_p\n",
    "\n",
    "standard_error = se = sqrt(s1**2 / n1 + s2**2 / n2)\n",
    "\n",
    "t = (xbar1 - xbar2) / (s_p * sqrt(1/n1 + 1/n2))\n",
    "t\n",
    "p = stats.t(degf).cdf(t) * 2"
   ]
  },
  {
   "cell_type": "code",
   "execution_count": 65,
   "id": "7ba3554b",
   "metadata": {},
   "outputs": [
    {
     "data": {
      "text/plain": [
       "-2.6252287036468456"
      ]
     },
     "execution_count": 65,
     "metadata": {},
     "output_type": "execute_result"
    }
   ],
   "source": [
    "t"
   ]
  },
  {
   "cell_type": "code",
   "execution_count": 66,
   "id": "75552328",
   "metadata": {},
   "outputs": [
    {
     "data": {
      "text/plain": [
       "0.01020985244923939"
      ]
     },
     "execution_count": 66,
     "metadata": {},
     "output_type": "execute_result"
    }
   ],
   "source": [
    "p"
   ]
  },
  {
   "cell_type": "code",
   "execution_count": 68,
   "id": "1d7d5a71",
   "metadata": {},
   "outputs": [
    {
     "data": {
      "text/plain": [
       "(-2.6252287036468456, 0.01020985244923939)"
      ]
     },
     "execution_count": 68,
     "metadata": {},
     "output_type": "execute_result"
    }
   ],
   "source": [
    "alpha = 0.05\n",
    "t, p = stats.ttest_ind_from_stats(90, 15, 40, 100, 20, 50)\n",
    "t, p"
   ]
  },
  {
   "cell_type": "markdown",
   "id": "3f28e11e",
   "metadata": {},
   "source": [
    "# Load the mpg dataset and use it to answer the following questions:"
   ]
  },
  {
   "cell_type": "code",
   "execution_count": 69,
   "id": "b293cefe",
   "metadata": {},
   "outputs": [],
   "source": [
    "df = data('mpg')"
   ]
  },
  {
   "cell_type": "code",
   "execution_count": 71,
   "id": "14b71ab5",
   "metadata": {},
   "outputs": [
    {
     "data": {
      "text/html": [
       "<div>\n",
       "<style scoped>\n",
       "    .dataframe tbody tr th:only-of-type {\n",
       "        vertical-align: middle;\n",
       "    }\n",
       "\n",
       "    .dataframe tbody tr th {\n",
       "        vertical-align: top;\n",
       "    }\n",
       "\n",
       "    .dataframe thead th {\n",
       "        text-align: right;\n",
       "    }\n",
       "</style>\n",
       "<table border=\"1\" class=\"dataframe\">\n",
       "  <thead>\n",
       "    <tr style=\"text-align: right;\">\n",
       "      <th></th>\n",
       "      <th>manufacturer</th>\n",
       "      <th>model</th>\n",
       "      <th>displ</th>\n",
       "      <th>year</th>\n",
       "      <th>cyl</th>\n",
       "      <th>trans</th>\n",
       "      <th>drv</th>\n",
       "      <th>cty</th>\n",
       "      <th>hwy</th>\n",
       "      <th>fl</th>\n",
       "      <th>class</th>\n",
       "    </tr>\n",
       "  </thead>\n",
       "  <tbody>\n",
       "    <tr>\n",
       "      <th>1</th>\n",
       "      <td>audi</td>\n",
       "      <td>a4</td>\n",
       "      <td>1.8</td>\n",
       "      <td>1999</td>\n",
       "      <td>4</td>\n",
       "      <td>auto(l5)</td>\n",
       "      <td>f</td>\n",
       "      <td>18</td>\n",
       "      <td>29</td>\n",
       "      <td>p</td>\n",
       "      <td>compact</td>\n",
       "    </tr>\n",
       "    <tr>\n",
       "      <th>2</th>\n",
       "      <td>audi</td>\n",
       "      <td>a4</td>\n",
       "      <td>1.8</td>\n",
       "      <td>1999</td>\n",
       "      <td>4</td>\n",
       "      <td>manual(m5)</td>\n",
       "      <td>f</td>\n",
       "      <td>21</td>\n",
       "      <td>29</td>\n",
       "      <td>p</td>\n",
       "      <td>compact</td>\n",
       "    </tr>\n",
       "    <tr>\n",
       "      <th>3</th>\n",
       "      <td>audi</td>\n",
       "      <td>a4</td>\n",
       "      <td>2.0</td>\n",
       "      <td>2008</td>\n",
       "      <td>4</td>\n",
       "      <td>manual(m6)</td>\n",
       "      <td>f</td>\n",
       "      <td>20</td>\n",
       "      <td>31</td>\n",
       "      <td>p</td>\n",
       "      <td>compact</td>\n",
       "    </tr>\n",
       "    <tr>\n",
       "      <th>4</th>\n",
       "      <td>audi</td>\n",
       "      <td>a4</td>\n",
       "      <td>2.0</td>\n",
       "      <td>2008</td>\n",
       "      <td>4</td>\n",
       "      <td>auto(av)</td>\n",
       "      <td>f</td>\n",
       "      <td>21</td>\n",
       "      <td>30</td>\n",
       "      <td>p</td>\n",
       "      <td>compact</td>\n",
       "    </tr>\n",
       "    <tr>\n",
       "      <th>5</th>\n",
       "      <td>audi</td>\n",
       "      <td>a4</td>\n",
       "      <td>2.8</td>\n",
       "      <td>1999</td>\n",
       "      <td>6</td>\n",
       "      <td>auto(l5)</td>\n",
       "      <td>f</td>\n",
       "      <td>16</td>\n",
       "      <td>26</td>\n",
       "      <td>p</td>\n",
       "      <td>compact</td>\n",
       "    </tr>\n",
       "  </tbody>\n",
       "</table>\n",
       "</div>"
      ],
      "text/plain": [
       "  manufacturer model  displ  year  cyl       trans drv  cty  hwy fl    class\n",
       "1         audi    a4    1.8  1999    4    auto(l5)   f   18   29  p  compact\n",
       "2         audi    a4    1.8  1999    4  manual(m5)   f   21   29  p  compact\n",
       "3         audi    a4    2.0  2008    4  manual(m6)   f   20   31  p  compact\n",
       "4         audi    a4    2.0  2008    4    auto(av)   f   21   30  p  compact\n",
       "5         audi    a4    2.8  1999    6    auto(l5)   f   16   26  p  compact"
      ]
     },
     "execution_count": 71,
     "metadata": {},
     "output_type": "execute_result"
    }
   ],
   "source": [
    "df.head()"
   ]
  },
  {
   "cell_type": "markdown",
   "id": "b35c5b07",
   "metadata": {},
   "source": [
    "## Is there a difference in fuel-efficiency in cars from 2008 vs 1999?"
   ]
  },
  {
   "cell_type": "markdown",
   "id": "9da919eb",
   "metadata": {},
   "source": [
    "Plot Distributions (i.e. Histograms!)"
   ]
  },
  {
   "cell_type": "code",
   "execution_count": null,
   "id": "d044434f",
   "metadata": {},
   "outputs": [],
   "source": []
  },
  {
   "cell_type": "markdown",
   "id": "ce994b71",
   "metadata": {},
   "source": [
    "Establish Hypotheses"
   ]
  },
  {
   "cell_type": "code",
   "execution_count": null,
   "id": "28dcdefb",
   "metadata": {},
   "outputs": [],
   "source": [
    "H"
   ]
  },
  {
   "cell_type": "markdown",
   "id": "01c72dda",
   "metadata": {},
   "source": [
    "Set Significance Level"
   ]
  },
  {
   "cell_type": "code",
   "execution_count": 80,
   "id": "ba751e4a",
   "metadata": {},
   "outputs": [],
   "source": [
    "aplha=.05"
   ]
  },
  {
   "cell_type": "markdown",
   "id": "fadc90a6",
   "metadata": {},
   "source": [
    "Verify Assumptions: Normal Distribution, or at least 30 observations and \"kinda\" normal. The more observations you have, the less \"normal\" it needs to appear. (CLT)"
   ]
  },
  {
   "cell_type": "code",
   "execution_count": null,
   "id": "3b6a7719",
   "metadata": {},
   "outputs": [],
   "source": []
  },
  {
   "cell_type": "markdown",
   "id": "6abf8dda",
   "metadata": {},
   "source": [
    "Compute test statistic and probability (t-statistic & p-value) using scipy.stats.ttest_1samp."
   ]
  },
  {
   "cell_type": "code",
   "execution_count": null,
   "id": "58a608eb",
   "metadata": {},
   "outputs": [],
   "source": [
    "df[(df['year'] == 2008) & df[]]"
   ]
  },
  {
   "cell_type": "markdown",
   "id": "9fb0dc6a",
   "metadata": {},
   "source": [
    "Decide. For a 2-tailed test, we take the p-value as is. For a 1-tailed test, we evaluate"
   ]
  },
  {
   "cell_type": "code",
   "execution_count": null,
   "id": "35d5c897",
   "metadata": {},
   "outputs": [],
   "source": []
  },
  {
   "cell_type": "markdown",
   "id": "794d4092",
   "metadata": {},
   "source": [
    "## Are compact cars more fuel-efficient than the average car?"
   ]
  },
  {
   "cell_type": "code",
   "execution_count": null,
   "id": "258fa838",
   "metadata": {},
   "outputs": [],
   "source": []
  },
  {
   "cell_type": "markdown",
   "id": "5cadb724",
   "metadata": {},
   "source": [
    "## Do manual cars get better gas mileage than automatic cars?"
   ]
  },
  {
   "cell_type": "code",
   "execution_count": null,
   "id": "8c8090be",
   "metadata": {},
   "outputs": [],
   "source": []
  },
  {
   "cell_type": "code",
   "execution_count": null,
   "id": "6c8c88d5",
   "metadata": {},
   "outputs": [],
   "source": []
  }
 ],
 "metadata": {
  "kernelspec": {
   "display_name": "Python 3",
   "language": "python",
   "name": "python3"
  },
  "language_info": {
   "codemirror_mode": {
    "name": "ipython",
    "version": 3
   },
   "file_extension": ".py",
   "mimetype": "text/x-python",
   "name": "python",
   "nbconvert_exporter": "python",
   "pygments_lexer": "ipython3",
   "version": "3.8.8"
  }
 },
 "nbformat": 4,
 "nbformat_minor": 5
}
