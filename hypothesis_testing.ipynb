{
 "cells": [
  {
   "cell_type": "markdown",
   "id": "cdf26525",
   "metadata": {},
   "source": [
    "***If The P is low reject the Ho***\n"
   ]
  },
  {
   "cell_type": "markdown",
   "id": "2cfbbd79",
   "metadata": {},
   "source": [
    "**False Negative Rate:** P(FN) = P(Type II Error)\n",
    "False Negative: Failing to reject null hypothesis when it is false. \n",
    "i.e. there is a difference but test told you otherwise. \n",
    "\n",
    "**False Positive Rate:** P(FP) = P(Type I Error)\n",
    "False Positive: Said there was a difference where there wasn't. \n",
    "Alpha is your false positive rate."
   ]
  },
  {
   "cell_type": "markdown",
   "id": "bdc9557e",
   "metadata": {},
   "source": [
    "# For each of the following questions, formulate a null and alternative hypothesis (be as specific as you can be), then give an example of what a true positive, true negative, type I and type II errors would look like. Note that some of the questions are intentionally phrased in a vague way. It is your job to reword these as more precise questions that could be tested."
   ]
  },
  {
   "cell_type": "markdown",
   "id": "7f81ab13",
   "metadata": {},
   "source": [
    "## Has the network latency gone up since we switched internet service providers?"
   ]
  },
  {
   "cell_type": "markdown",
   "id": "12dda7dd",
   "metadata": {},
   "source": [
    "Will switching service providers cause network latency to increase?\n",
    "\n",
    "$H_{0}$ Customers switching providers will either drop or not change the latency.\n",
    "\n",
    "$H_{a}$ Cusotmers switching providers will increase network latency\n",
    "\n",
    "P(Type II Error) Would be if the P(latency) was greater than .05 you didn't reject the $H_{0}$\n",
    "\n",
    "P(Type I Error) Would be if the P(latency) was less than .05 and you reject the $H_{0}$"
   ]
  },
  {
   "cell_type": "markdown",
   "id": "a8022c22",
   "metadata": {},
   "source": [
    "## Is the website redesign any good?"
   ]
  },
  {
   "cell_type": "markdown",
   "id": "2ca00e89",
   "metadata": {},
   "source": [
    "Has the website generated more sales since the redesign?"
   ]
  },
  {
   "cell_type": "markdown",
   "id": "8ffb7468",
   "metadata": {},
   "source": [
    "$H_{0}$ The website has generated less or equal amount of sales since the redesign\n",
    "\n",
    "$H_{a}$ The website has gnerated more sales since the redesign\n",
    "\n",
    "P(Type II Error) Would be if the P(Sales) was greater than .05 you didn't reject the $H_{0}$\n",
    "\n",
    "P(Type I Error) Would be if the P(Sales) was less than .05 and you reject the $H_{0}$"
   ]
  },
  {
   "cell_type": "markdown",
   "id": "4e606cc5",
   "metadata": {},
   "source": [
    "## Is our television ad driving more sales?"
   ]
  },
  {
   "cell_type": "markdown",
   "id": "e78fa590",
   "metadata": {},
   "source": [
    "Have we generated more sales since the television ad aired?"
   ]
  },
  {
   "cell_type": "markdown",
   "id": "1b1d693e",
   "metadata": {},
   "source": [
    "$H_{0}$ The television ad has earned less or equal amount of sales since airing\n",
    "\n",
    "$H_{a}$ The television ad has earned more sales since airing.\n",
    "\n",
    "P(Type II Error) Would be if the P(Sales) was greater than .05 you didn't reject the $H_{0}$\n",
    "\n",
    "P(Type I Error) Would be if the P(Sales) was less than .05 and you reject the $H_{0}$"
   ]
  }
 ],
 "metadata": {
  "kernelspec": {
   "display_name": "Python 3",
   "language": "python",
   "name": "python3"
  },
  "language_info": {
   "codemirror_mode": {
    "name": "ipython",
    "version": 3
   },
   "file_extension": ".py",
   "mimetype": "text/x-python",
   "name": "python",
   "nbconvert_exporter": "python",
   "pygments_lexer": "ipython3",
   "version": "3.8.8"
  }
 },
 "nbformat": 4,
 "nbformat_minor": 5
}
