{
 "cells": [
  {
   "cell_type": "code",
   "execution_count": 1,
   "id": "e83fde0b",
   "metadata": {},
   "outputs": [],
   "source": [
    "import matplotlib.pyplot as plt\n",
    "import numpy as np\n",
    "import pandas as pd\n",
    "from scipy import stats\n",
    "from env import host, user, password\n",
    "#import viz # curriculum viz example code\n",
    "\n",
    "np.random.seed(123)"
   ]
  },
  {
   "cell_type": "markdown",
   "id": "8d4e6470",
   "metadata": {},
   "source": [
    "# Average Wait tie is 6 min.\n",
    "## Whats the probabilty your phone call will get answered in 2 min?"
   ]
  },
  {
   "cell_type": "code",
   "execution_count": 11,
   "id": "2ee85eb9",
   "metadata": {},
   "outputs": [],
   "source": [
    "wait_time = stats.norm(6)"
   ]
  },
  {
   "cell_type": "code",
   "execution_count": 13,
   "id": "573c9109",
   "metadata": {},
   "outputs": [
    {
     "data": {
      "text/plain": [
       "0.00013383022576488537"
      ]
     },
     "execution_count": 13,
     "metadata": {},
     "output_type": "execute_result"
    }
   ],
   "source": [
    "wait_time.pdf(2)"
   ]
  },
  {
   "cell_type": "code",
   "execution_count": null,
   "id": "8be14f59",
   "metadata": {},
   "outputs": [],
   "source": []
  }
 ],
 "metadata": {
  "kernelspec": {
   "display_name": "Python 3",
   "language": "python",
   "name": "python3"
  },
  "language_info": {
   "codemirror_mode": {
    "name": "ipython",
    "version": 3
   },
   "file_extension": ".py",
   "mimetype": "text/x-python",
   "name": "python",
   "nbconvert_exporter": "python",
   "pygments_lexer": "ipython3",
   "version": "3.8.8"
  }
 },
 "nbformat": 4,
 "nbformat_minor": 5
}
