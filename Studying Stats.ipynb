{
 "cells": [
  {
   "cell_type": "code",
   "execution_count": 116,
   "id": "f7614b36",
   "metadata": {},
   "outputs": [],
   "source": [
    "from math import sqrt\n",
    "from scipy import stats\n",
    "\n",
    "import matplotlib.pyplot as plt\n",
    "import numpy as np\n",
    "import pandas as pd\n",
    "import seaborn as sns\n",
    "from pydataset import data\n",
    "import statistics"
   ]
  },
  {
   "cell_type": "markdown",
   "id": "9ba0fa1f",
   "metadata": {},
   "source": [
    "# Simulation"
   ]
  },
  {
   "cell_type": "markdown",
   "id": "5d030a5f",
   "metadata": {},
   "source": [
    "#### Simulation with head and tails coin flip"
   ]
  },
  {
   "cell_type": "code",
   "execution_count": 3,
   "id": "79bd947a",
   "metadata": {},
   "outputs": [
    {
     "data": {
      "text/plain": [
       "0.499804"
      ]
     },
     "execution_count": 3,
     "metadata": {},
     "output_type": "execute_result"
    }
   ],
   "source": [
    "outcomes = [\"Heads\", \"Tails\"]\n",
    "n_simulations = 1_000_000\n",
    "\n",
    "flips = np.random.choice(outcomes,  size=n_simulations)\n",
    "flips[0:5]\n",
    "(flips == \"Heads\").mean()"
   ]
  },
  {
   "cell_type": "markdown",
   "id": "0a722cdf",
   "metadata": {},
   "source": [
    "#### Simulation with a 6 sided Dice"
   ]
  },
  {
   "cell_type": "code",
   "execution_count": 4,
   "id": "0ff92e3f",
   "metadata": {},
   "outputs": [
    {
     "data": {
      "text/plain": [
       "0.166"
      ]
     },
     "execution_count": 4,
     "metadata": {},
     "output_type": "execute_result"
    }
   ],
   "source": [
    "outcomes = [1, 2, 3, 4, 5, 6]\n",
    "\n",
    "n_simulations = 10_000\n",
    "\n",
    "rolls = np.random.choice(outcomes, size=n_simulations)\n",
    "\n",
    "# What are the chances we roll a 5?\n",
    "(rolls == 5).mean()"
   ]
  },
  {
   "cell_type": "markdown",
   "id": "5dbdcfb9",
   "metadata": {},
   "source": [
    "#### Simulation with 2 Dice"
   ]
  },
  {
   "cell_type": "code",
   "execution_count": 5,
   "id": "fa2a2994",
   "metadata": {},
   "outputs": [
    {
     "data": {
      "text/plain": [
       "0.027624"
      ]
     },
     "execution_count": 5,
     "metadata": {},
     "output_type": "execute_result"
    }
   ],
   "source": [
    "# What are the odds of rolling Snake Eyes on two dice?\n",
    "\n",
    "# Step 1 Represent our outcomes\n",
    "outcomes = [1, 2, 3, 4, 5, 6]\n",
    "\n",
    "# Step 2: Create a matrix of random data where rows=simulations, columns=trial\n",
    "\n",
    "# Simulation = the number of times we run the experiment\n",
    "# Trials = the number of things in each experiment\n",
    "\n",
    "n_simulations = 1_000_000\n",
    "n_trials = 2 # b/c we're rolling 2 dice with each experiment\n",
    "\n",
    "# size argument can set our simulation and trial size\n",
    "rolls = np.random.choice(outcomes, size=(n_simulations, n_trials))\n",
    "\n",
    "# Step 3: Apply an aggregate row-wise\n",
    "sum_of_rolls = rolls.sum(axis=1) # axis=1 means sum across the rows\n",
    "(sum_of_rolls == 2).mean()"
   ]
  },
  {
   "cell_type": "markdown",
   "id": "9a8be322",
   "metadata": {},
   "source": [
    "#### Cool Tricks "
   ]
  },
  {
   "cell_type": "code",
   "execution_count": 6,
   "id": "f39ad07f",
   "metadata": {},
   "outputs": [
    {
     "data": {
      "text/plain": [
       "0.027624"
      ]
     },
     "execution_count": 6,
     "metadata": {},
     "output_type": "execute_result"
    }
   ],
   "source": [
    "# What are the experimental probabilities of rolling each sum\n",
    "df = pd.DataFrame()\n",
    "\n",
    "# possible sum outcomes from 2 dice\n",
    "df[\"outcome\"] = [2, 3, 4, 5, 6, 7, 8, 9, 10, 11, 12]\n",
    "\n",
    "# write a lil' function that gets the probability\n",
    "def get_prob(n):\n",
    "    return (sum_of_rolls == n).mean()\n",
    "\n",
    "get_prob(2)"
   ]
  },
  {
   "cell_type": "code",
   "execution_count": 7,
   "id": "8341b920",
   "metadata": {},
   "outputs": [
    {
     "name": "stdout",
     "output_type": "stream",
     "text": [
      "Sum outcome of rolling 2 dice and the probability of seeing that outcome\n"
     ]
    },
    {
     "data": {
      "text/html": [
       "<div>\n",
       "<style scoped>\n",
       "    .dataframe tbody tr th:only-of-type {\n",
       "        vertical-align: middle;\n",
       "    }\n",
       "\n",
       "    .dataframe tbody tr th {\n",
       "        vertical-align: top;\n",
       "    }\n",
       "\n",
       "    .dataframe thead th {\n",
       "        text-align: right;\n",
       "    }\n",
       "</style>\n",
       "<table border=\"1\" class=\"dataframe\">\n",
       "  <thead>\n",
       "    <tr style=\"text-align: right;\">\n",
       "      <th></th>\n",
       "      <th>outcome</th>\n",
       "      <th>probability</th>\n",
       "    </tr>\n",
       "  </thead>\n",
       "  <tbody>\n",
       "    <tr>\n",
       "      <th>0</th>\n",
       "      <td>2</td>\n",
       "      <td>0.027624</td>\n",
       "    </tr>\n",
       "    <tr>\n",
       "      <th>1</th>\n",
       "      <td>3</td>\n",
       "      <td>0.055729</td>\n",
       "    </tr>\n",
       "    <tr>\n",
       "      <th>2</th>\n",
       "      <td>4</td>\n",
       "      <td>0.083154</td>\n",
       "    </tr>\n",
       "    <tr>\n",
       "      <th>3</th>\n",
       "      <td>5</td>\n",
       "      <td>0.111273</td>\n",
       "    </tr>\n",
       "    <tr>\n",
       "      <th>4</th>\n",
       "      <td>6</td>\n",
       "      <td>0.138745</td>\n",
       "    </tr>\n",
       "    <tr>\n",
       "      <th>5</th>\n",
       "      <td>7</td>\n",
       "      <td>0.166743</td>\n",
       "    </tr>\n",
       "    <tr>\n",
       "      <th>6</th>\n",
       "      <td>8</td>\n",
       "      <td>0.138879</td>\n",
       "    </tr>\n",
       "    <tr>\n",
       "      <th>7</th>\n",
       "      <td>9</td>\n",
       "      <td>0.111397</td>\n",
       "    </tr>\n",
       "    <tr>\n",
       "      <th>8</th>\n",
       "      <td>10</td>\n",
       "      <td>0.082868</td>\n",
       "    </tr>\n",
       "    <tr>\n",
       "      <th>9</th>\n",
       "      <td>11</td>\n",
       "      <td>0.055683</td>\n",
       "    </tr>\n",
       "    <tr>\n",
       "      <th>10</th>\n",
       "      <td>12</td>\n",
       "      <td>0.027905</td>\n",
       "    </tr>\n",
       "  </tbody>\n",
       "</table>\n",
       "</div>"
      ],
      "text/plain": [
       "    outcome  probability\n",
       "0         2     0.027624\n",
       "1         3     0.055729\n",
       "2         4     0.083154\n",
       "3         5     0.111273\n",
       "4         6     0.138745\n",
       "5         7     0.166743\n",
       "6         8     0.138879\n",
       "7         9     0.111397\n",
       "8        10     0.082868\n",
       "9        11     0.055683\n",
       "10       12     0.027905"
      ]
     },
     "execution_count": 7,
     "metadata": {},
     "output_type": "execute_result"
    }
   ],
   "source": [
    "# set the probability to its own column\n",
    "df[\"probability\"] = df.outcome.apply(get_prob)\n",
    "\n",
    "print(\"Sum outcome of rolling 2 dice and the probability of seeing that outcome\")\n",
    "df"
   ]
  },
  {
   "cell_type": "markdown",
   "id": "ea8fb9c9",
   "metadata": {},
   "source": [
    "#### Setting our own probabilities"
   ]
  },
  {
   "cell_type": "code",
   "execution_count": 8,
   "id": "167712f7",
   "metadata": {},
   "outputs": [
    {
     "data": {
      "text/plain": [
       "0.5502"
      ]
     },
     "execution_count": 8,
     "metadata": {},
     "output_type": "execute_result"
    }
   ],
   "source": [
    "# Let's find a way to represent out data\n",
    "outcomes = [\"Heads\", \"Tails\"]\n",
    "\n",
    "flips = np.random.choice(outcomes, size=(10_000, 1), p=[0.55, 0.45])\n",
    "\n",
    "(flips == \"Heads\").mean()"
   ]
  },
  {
   "cell_type": "code",
   "execution_count": null,
   "id": "3e91e309",
   "metadata": {},
   "outputs": [],
   "source": [
    "#Exampe below is working with heads and tails 1= head and 0=tails"
   ]
  },
  {
   "cell_type": "code",
   "execution_count": 12,
   "id": "beaaf063",
   "metadata": {},
   "outputs": [
    {
     "data": {
      "text/plain": [
       "0.30468"
      ]
     },
     "execution_count": 12,
     "metadata": {},
     "output_type": "execute_result"
    }
   ],
   "source": [
    "outcomes = [1, 0]\n",
    "flips = np.random.choice(outcomes, size=(100_000, 2), p=[0.55, 0.45])\n",
    "num_of_heads = flips.sum(axis=1)\n",
    "(num_of_heads == 2).mean() #what is the probablity of getting heads twice"
   ]
  },
  {
   "cell_type": "markdown",
   "id": "e7aae884",
   "metadata": {},
   "source": [
    "# Probability Distributions"
   ]
  },
  {
   "cell_type": "markdown",
   "id": "9174e6d2",
   "metadata": {},
   "source": [
    "#### Types of Distributions\n",
    "- Uniform distributions have equal likelyhoods amont all outcomes, like a fair coin.\n",
    "- Binomial distributions are all about determining a binary outcome of an event. Success/failure, for example\n",
    "- Normal distributions model a continuous random variable.\n",
    "- Poisson distributions a certain amount of events occuring over a time interval"
   ]
  },
  {
   "cell_type": "markdown",
   "id": "6be3b3bd",
   "metadata": {},
   "source": [
    "<img src=\"map.png\">"
   ]
  },
  {
   "cell_type": "code",
   "execution_count": 21,
   "id": "96d55013",
   "metadata": {},
   "outputs": [],
   "source": [
    "die_distribution = stats.randint(1, 7)# the 7 is not inclusiv. This is a dice distro 1-6 sides"
   ]
  },
  {
   "cell_type": "markdown",
   "id": "2b067b0b",
   "metadata": {},
   "source": [
    "## Probability Mass Function (pmf)"
   ]
  },
  {
   "cell_type": "code",
   "execution_count": 22,
   "id": "4a9ab827",
   "metadata": {},
   "outputs": [
    {
     "data": {
      "text/plain": [
       "0.16666666666666666"
      ]
     },
     "execution_count": 22,
     "metadata": {},
     "output_type": "execute_result"
    }
   ],
   "source": [
    "die_distribution.pmf(3) #odds of rolling excatly 3"
   ]
  },
  {
   "cell_type": "code",
   "execution_count": 28,
   "id": "5b89b45f",
   "metadata": {},
   "outputs": [
    {
     "data": {
      "text/plain": [
       "0.16666666666666666"
      ]
     },
     "execution_count": 28,
     "metadata": {},
     "output_type": "execute_result"
    }
   ],
   "source": [
    "die_distribution.pmf(1) #odds of rolling excatly 1"
   ]
  },
  {
   "cell_type": "markdown",
   "id": "496722ec",
   "metadata": {},
   "source": [
    "## Cumulative Density Function (cdf)"
   ]
  },
  {
   "cell_type": "code",
   "execution_count": 23,
   "id": "849cc64b",
   "metadata": {},
   "outputs": [
    {
     "data": {
      "text/plain": [
       "0.5"
      ]
     },
     "execution_count": 23,
     "metadata": {},
     "output_type": "execute_result"
    }
   ],
   "source": [
    "die_distribution.cdf(3) #odds of rolling a 3 or less"
   ]
  },
  {
   "cell_type": "code",
   "execution_count": 27,
   "id": "3f3d979d",
   "metadata": {},
   "outputs": [
    {
     "data": {
      "text/plain": [
       "1.0"
      ]
     },
     "execution_count": 27,
     "metadata": {},
     "output_type": "execute_result"
    }
   ],
   "source": [
    "die_distribution.cdf(6) #odds of rolling a 6 or less"
   ]
  },
  {
   "cell_type": "markdown",
   "id": "142ef897",
   "metadata": {},
   "source": [
    "## Percent Point Function (ppf)"
   ]
  },
  {
   "cell_type": "code",
   "execution_count": 38,
   "id": "ffc31625",
   "metadata": {},
   "outputs": [
    {
     "data": {
      "text/plain": [
       "3.0"
      ]
     },
     "execution_count": 38,
     "metadata": {},
     "output_type": "execute_result"
    }
   ],
   "source": [
    "die_distribution.ppf(1/2) #.5 probability?"
   ]
  },
  {
   "cell_type": "code",
   "execution_count": 43,
   "id": "fa24981d",
   "metadata": {},
   "outputs": [
    {
     "data": {
      "text/plain": [
       "6.0"
      ]
     },
     "execution_count": 43,
     "metadata": {},
     "output_type": "execute_result"
    }
   ],
   "source": [
    "die_distribution.ppf(6/6) #notice at 100% probability? you will get all values less"
   ]
  },
  {
   "cell_type": "markdown",
   "id": "22f3ba2a",
   "metadata": {},
   "source": [
    "## Survival Function (sf)"
   ]
  },
  {
   "cell_type": "code",
   "execution_count": 25,
   "id": "fa5040ed",
   "metadata": {},
   "outputs": [
    {
     "data": {
      "text/plain": [
       "0.5"
      ]
     },
     "execution_count": 25,
     "metadata": {},
     "output_type": "execute_result"
    }
   ],
   "source": [
    "die_distribution.sf(3) #odds of rolling higher than 3"
   ]
  },
  {
   "cell_type": "code",
   "execution_count": 26,
   "id": "9b2223f2",
   "metadata": {},
   "outputs": [
    {
     "data": {
      "text/plain": [
       "0.33333333333333337"
      ]
     },
     "execution_count": 26,
     "metadata": {},
     "output_type": "execute_result"
    }
   ],
   "source": [
    "die_distribution.sf(4)#odds of rolling higher than 4"
   ]
  },
  {
   "cell_type": "markdown",
   "id": "5e085b28",
   "metadata": {},
   "source": [
    "##  Inverse Survival Function (isf)"
   ]
  },
  {
   "cell_type": "code",
   "execution_count": 36,
   "id": "d7acc1c5",
   "metadata": {},
   "outputs": [
    {
     "data": {
      "text/plain": [
       "3.0"
      ]
     },
     "execution_count": 36,
     "metadata": {},
     "output_type": "execute_result"
    }
   ],
   "source": [
    "die_distribution.isf(1/2) #.5 probability? you will get a 3 or higher"
   ]
  },
  {
   "cell_type": "code",
   "execution_count": 34,
   "id": "5b73f029",
   "metadata": {},
   "outputs": [
    {
     "data": {
      "text/plain": [
       "4.0"
      ]
     },
     "execution_count": 34,
     "metadata": {},
     "output_type": "execute_result"
    }
   ],
   "source": [
    "die_distribution.isf(1/3) #.33 probabiliy? you will get a 4 or higher"
   ]
  },
  {
   "cell_type": "code",
   "execution_count": 42,
   "id": "177767f4",
   "metadata": {},
   "outputs": [
    {
     "data": {
      "text/plain": [
       "0.0"
      ]
     },
     "execution_count": 42,
     "metadata": {},
     "output_type": "execute_result"
    }
   ],
   "source": [
    "die_distribution.isf(6/6) #notice that at 100% probability you will not get anything greater"
   ]
  },
  {
   "cell_type": "markdown",
   "id": "98ce5449",
   "metadata": {},
   "source": [
    "# Binomial Distribution"
   ]
  },
  {
   "cell_type": "markdown",
   "id": "7d4cfac3",
   "metadata": {},
   "source": [
    "You are taking a multiple choice test consisting of 30 questions that you forgot to study for. Each question has 4 possible answers and you will choose one at random. What is the probability you get more than 10 of the questions right?"
   ]
  },
  {
   "cell_type": "code",
   "execution_count": 45,
   "id": "8530e539",
   "metadata": {},
   "outputs": [],
   "source": [
    "test = stats.binom(30, .25)"
   ]
  },
  {
   "cell_type": "markdown",
   "id": "f2f0b088",
   "metadata": {},
   "source": [
    " We want to know the probability that X > 10"
   ]
  },
  {
   "cell_type": "code",
   "execution_count": 46,
   "id": "a09dcc54",
   "metadata": {},
   "outputs": [
    {
     "data": {
      "text/plain": [
       "0.10572812269266013"
      ]
     },
     "execution_count": 46,
     "metadata": {},
     "output_type": "execute_result"
    }
   ],
   "source": [
    "test.sf(10)# since we are looking for x>10 we used sf"
   ]
  },
  {
   "cell_type": "markdown",
   "id": "e20edb88",
   "metadata": {},
   "source": [
    "Suppose there is a 5% chance that a Codeup student will show up late to class. With a class of 20, what is the likelihood that everyone shows up on time?"
   ]
  },
  {
   "cell_type": "code",
   "execution_count": 47,
   "id": "9073bb1d",
   "metadata": {},
   "outputs": [],
   "source": [
    "late = stats.binom(20, .05) #.05 chance of success, in which, means success they were late to class"
   ]
  },
  {
   "cell_type": "code",
   "execution_count": 48,
   "id": "e3cceab9",
   "metadata": {},
   "outputs": [
    {
     "data": {
      "text/plain": [
       "0.3584859224085422"
      ]
     },
     "execution_count": 48,
     "metadata": {},
     "output_type": "execute_result"
    }
   ],
   "source": [
    "late.pmf(0)  #.05 chance of success(being late).  0 students beign late"
   ]
  },
  {
   "cell_type": "code",
   "execution_count": 66,
   "id": "de732a1a",
   "metadata": {},
   "outputs": [
    {
     "data": {
      "text/plain": [
       "9.536743164062544e-27"
      ]
     },
     "execution_count": 66,
     "metadata": {},
     "output_type": "execute_result"
    }
   ],
   "source": [
    "late.pmf(20) #.05 chance of success(being late).  20 students beign late."
   ]
  },
  {
   "cell_type": "markdown",
   "id": "ee1610b7",
   "metadata": {},
   "source": [
    "Now suppose there is a 95% chance that a Codeup student will show up on time. With a class of 20, what is the likelihood that everyone shows up late?"
   ]
  },
  {
   "cell_type": "code",
   "execution_count": 49,
   "id": "d0a1ee71",
   "metadata": {},
   "outputs": [],
   "source": [
    "on_time = stats.binom(20, .95)"
   ]
  },
  {
   "cell_type": "code",
   "execution_count": 64,
   "id": "bdaf4a84",
   "metadata": {},
   "outputs": [
    {
     "data": {
      "text/plain": [
       "9.536743164062679e-27"
      ]
     },
     "execution_count": 64,
     "metadata": {},
     "output_type": "execute_result"
    }
   ],
   "source": [
    "on_time.pmf(0) # @ .95 chance of success. 0 students were on time to class. Makes sense at 95%"
   ]
  },
  {
   "cell_type": "code",
   "execution_count": 65,
   "id": "26a7e2b3",
   "metadata": {},
   "outputs": [
    {
     "data": {
      "text/plain": [
       "0.3584859224085419"
      ]
     },
     "execution_count": 65,
     "metadata": {},
     "output_type": "execute_result"
    }
   ],
   "source": [
    "on_time.pmf(20) # @ .95 chance of success. 20 students were on time to class."
   ]
  },
  {
   "cell_type": "markdown",
   "id": "7dda5a06",
   "metadata": {},
   "source": [
    "# Normal Distribution"
   ]
  },
  {
   "cell_type": "markdown",
   "id": "1d0cb798",
   "metadata": {},
   "source": [
    "Suppose that a store's daily sales are normally distributed with a mean of 12,000 dollars and standard deviation of 2000 dollars. How much would the daily sales have to be to be in the top 10% of all days?"
   ]
  },
  {
   "cell_type": "code",
   "execution_count": 67,
   "id": "734e7cf3",
   "metadata": {},
   "outputs": [],
   "source": [
    "sales = stats.norm(12_000, 2000)"
   ]
  },
  {
   "cell_type": "code",
   "execution_count": 76,
   "id": "8582fe16",
   "metadata": {},
   "outputs": [
    {
     "data": {
      "text/plain": [
       "14563.103131089201"
      ]
     },
     "execution_count": 76,
     "metadata": {},
     "output_type": "execute_result"
    }
   ],
   "source": [
    "sales.ppf(.90)"
   ]
  },
  {
   "cell_type": "code",
   "execution_count": 77,
   "id": "556ba3d0",
   "metadata": {},
   "outputs": [
    {
     "data": {
      "text/plain": [
       "0.9"
      ]
     },
     "execution_count": 77,
     "metadata": {},
     "output_type": "execute_result"
    }
   ],
   "source": [
    "sales.cdf(14563.103131089201) # can always check work to see if cdf is = to .90 which would be in the top 10%"
   ]
  },
  {
   "cell_type": "markdown",
   "id": "9810a5a5",
   "metadata": {},
   "source": [
    "How likely is it that the store sells less than 10,000 dollars one day?"
   ]
  },
  {
   "cell_type": "code",
   "execution_count": 78,
   "id": "878410b0",
   "metadata": {},
   "outputs": [
    {
     "data": {
      "text/plain": [
       "0.15865525393145707"
      ]
     },
     "execution_count": 78,
     "metadata": {},
     "output_type": "execute_result"
    }
   ],
   "source": [
    "sales.cdf(10_000)"
   ]
  },
  {
   "cell_type": "markdown",
   "id": "06589ac6",
   "metadata": {},
   "source": [
    "# Poisson Distribution"
   ]
  },
  {
   "cell_type": "markdown",
   "id": "0332e87a",
   "metadata": {},
   "source": [
    "Codeup knows that, on average, students consume 5 lbs of coffee per week. How likely is it that the coffee consumption for this week is only 3 lbs?"
   ]
  },
  {
   "cell_type": "code",
   "execution_count": 81,
   "id": "ca549ec0",
   "metadata": {},
   "outputs": [],
   "source": [
    "coffee = stats.poisson(5)"
   ]
  },
  {
   "cell_type": "code",
   "execution_count": 82,
   "id": "8cf9eb48",
   "metadata": {},
   "outputs": [
    {
     "data": {
      "text/plain": [
       "0.1403738958142805"
      ]
     },
     "execution_count": 82,
     "metadata": {},
     "output_type": "execute_result"
    }
   ],
   "source": [
    "coffee.pmf(3)"
   ]
  },
  {
   "cell_type": "markdown",
   "id": "007ad602",
   "metadata": {},
   "source": [
    "What is the likelihood that more than 7 lbs of coffee are consumed?"
   ]
  },
  {
   "cell_type": "code",
   "execution_count": 83,
   "id": "d33c1848",
   "metadata": {},
   "outputs": [
    {
     "data": {
      "text/plain": [
       "0.13337167407000744"
      ]
     },
     "execution_count": 83,
     "metadata": {},
     "output_type": "execute_result"
    }
   ],
   "source": [
    "coffee.sf(7)"
   ]
  },
  {
   "cell_type": "markdown",
   "id": "2f82a620",
   "metadata": {},
   "source": [
    "# Hypothesis Testing"
   ]
  },
  {
   "cell_type": "markdown",
   "id": "0bfdeeb5",
   "metadata": {},
   "source": [
    "The data types\n",
    "1. boolean x numeric (t-test) / comparison of means  across the 2 groups (churned customers vs. not churned customers)\n",
    "2. boolean x boolean (chi-square) / comparison of proportions/relationships \n",
    "4. categorical x boolean (chi-square) / comparison of proportions/relationships \n",
    "7. numeric x numeric (pearson's correlation) / linear correlation between two continuous values, does one affect the other."
   ]
  },
  {
   "cell_type": "markdown",
   "id": "d6411ed3",
   "metadata": {},
   "source": [
    "### Key terms\n",
    "\n",
    "**p-value:** probability that we observed this result due to chance. if it's less than our alpha, we reject the null hypothesis...there IS a difference, or a relationship. \n",
    "\n",
    "**False Negative Rate:** P(FN) = P(Type II Error)\n",
    "False Negative: Failing to reject null hypothesis when it is false. \n",
    "i.e. there is a difference but test told you otherwise. \n",
    "\n",
    "**False Positive Rate:** P(FP) = P(Type I Error)\n",
    "False Positive: Said there was a difference where there wasn't. \n",
    "Alpha is your false positive rate. \n",
    "\n"
   ]
  },
  {
   "cell_type": "markdown",
   "id": "36f318c1",
   "metadata": {},
   "source": [
    "1. id the question\n",
    "2. state the hypotheses\n",
    "3. validate assumptions\n",
    "4. run our test, set our significance level, $\\alpha$\n",
    "5. get results: test statistic & p-value\n",
    "6. evaluate results and draw conclusions"
   ]
  },
  {
   "cell_type": "markdown",
   "id": "4a7041d1",
   "metadata": {},
   "source": [
    "# T-Test"
   ]
  },
  {
   "cell_type": "markdown",
   "id": "83dded15",
   "metadata": {},
   "source": [
    "|Goal|$H_{0}$|Data Needed|Parametric Test|Assumptions*|Non-parametric Test|  \n",
    "|---|---|---|---|---|---|  \n",
    "|Compare observed mean to theoretical one|$\\mu_{statsDegrees} = \\mu_{allGraduates}$|array-like of observed values & float of theoretical|One sample t-test: scipy.stats.ttest_1samp|Normally Distributed\\*\\*|One sample Wilcoxon signed rank test|   \n",
    "|Compare two observed means (independent samples)|$\\mu_{churned} = \\mu_{notchurn}$|2 array-like samples|Independent t-test (or 2-sample): scipy.stats.ttest_ind|Independent, Normally Distributed\\*\\*, Equal Variances\\*\\*\\*|Mann-Whitney's test|   \n",
    "|Compare several observed means (independent samples)|$\\mu_{vericosa} = \\mu_{virginica} = \\mu_{setosa}$|n array-like samples|ANOVA: scipy.stats.f_oneway|Independent, Normally Distributed\\*\\*, Equal Variances|Kruskal-Wallis test|   \n",
    "\n",
    "\\*If assumptions can't be met, the equivalent non-parametric test can be used.   \n",
    "\\*\\*Normal Distribution assumption can be be met by having a large enough sample (due to Central Limit Theorem), or the data can be scaled using a Gaussian Scalar.   \n",
    "\\*\\*\\*The argument in the stats.ttest_ind() method of `equal_var` can be set to `False` to accomodate this assumption.   \n",
    "\n"
   ]
  },
  {
   "cell_type": "markdown",
   "id": "ec28784a",
   "metadata": {},
   "source": [
    "A t-test can help us answer questions like:\n",
    "\n",
    "Are the salaries of the marketing department higher than the company average?<br>\n",
    "Do customers that receive marketing emails spend more money?<br>\n",
    "Are sales for product A higher when we run a promotion for it?<br>"
   ]
  },
  {
   "cell_type": "markdown",
   "id": "286b7d9d",
   "metadata": {},
   "source": [
    "#### 1. Ace Realty wants to determine whether the average time it takes to sell homes is different for its two offices.<br> A sample of 40 sales from office #1 revealed a mean of 90 days and a standard deviation of 15 days.<br> A sample of 50 sales from office #2 revealed a mean of 100 days and a standard deviation of 20 days. Use a .05 level of significance."
   ]
  },
  {
   "cell_type": "markdown",
   "id": "41456bda",
   "metadata": {},
   "source": [
    "What are we comparing?\n",
    "- average time (numeric continuous values) to sell for two different groups (categories)"
   ]
  },
  {
   "cell_type": "markdown",
   "id": "022f802b",
   "metadata": {},
   "source": [
    "Form a hypothesis:\n",
    "\n",
    "#### $H_0$ = There is no difference in average time to sell at two offices   \n",
    "#### $H_a$ = There is difference in average time to sell at two offices\n",
    "\n",
    "Significance level $\\alpha$ = 0.05"
   ]
  },
  {
   "cell_type": "code",
   "execution_count": 91,
   "id": "52f9f5d0",
   "metadata": {},
   "outputs": [
    {
     "data": {
      "text/plain": [
       "(2.6252287036468456, 0.01020985244923939)"
      ]
     },
     "execution_count": 91,
     "metadata": {},
     "output_type": "execute_result"
    }
   ],
   "source": [
    "alpha = 0.05\n",
    "\n",
    "t, p = stats.ttest_ind_from_stats(100,20,50, 90,15,40) #(\"mean1\", \"std1\", \"sample1\", \"mean2\", \"std2\", \"sample2\")\n",
    "t,p"
   ]
  },
  {
   "cell_type": "code",
   "execution_count": 92,
   "id": "165fbfa2",
   "metadata": {},
   "outputs": [
    {
     "name": "stdout",
     "output_type": "stream",
     "text": [
      "reject null hypothesis\n"
     ]
    }
   ],
   "source": [
    "if p<alpha:\n",
    "    print(\"reject null hypothesis\")\n",
    "else:\n",
    "    print(\"Fail to reject the null hypothesis\")"
   ]
  },
  {
   "cell_type": "markdown",
   "id": "2ac8188f",
   "metadata": {},
   "source": [
    "# 2-Sample, 2-tailed T-Test"
   ]
  },
  {
   "cell_type": "code",
   "execution_count": 95,
   "id": "03a29ebb",
   "metadata": {},
   "outputs": [
    {
     "data": {
      "text/html": [
       "<div>\n",
       "<style scoped>\n",
       "    .dataframe tbody tr th:only-of-type {\n",
       "        vertical-align: middle;\n",
       "    }\n",
       "\n",
       "    .dataframe tbody tr th {\n",
       "        vertical-align: top;\n",
       "    }\n",
       "\n",
       "    .dataframe thead th {\n",
       "        text-align: right;\n",
       "    }\n",
       "</style>\n",
       "<table border=\"1\" class=\"dataframe\">\n",
       "  <thead>\n",
       "    <tr style=\"text-align: right;\">\n",
       "      <th></th>\n",
       "      <th>manufacturer</th>\n",
       "      <th>model</th>\n",
       "      <th>displ</th>\n",
       "      <th>year</th>\n",
       "      <th>cyl</th>\n",
       "      <th>trans</th>\n",
       "      <th>drv</th>\n",
       "      <th>cty</th>\n",
       "      <th>hwy</th>\n",
       "      <th>fl</th>\n",
       "      <th>class</th>\n",
       "    </tr>\n",
       "  </thead>\n",
       "  <tbody>\n",
       "    <tr>\n",
       "      <th>1</th>\n",
       "      <td>audi</td>\n",
       "      <td>a4</td>\n",
       "      <td>1.8</td>\n",
       "      <td>1999</td>\n",
       "      <td>4</td>\n",
       "      <td>auto(l5)</td>\n",
       "      <td>f</td>\n",
       "      <td>18</td>\n",
       "      <td>29</td>\n",
       "      <td>p</td>\n",
       "      <td>compact</td>\n",
       "    </tr>\n",
       "    <tr>\n",
       "      <th>2</th>\n",
       "      <td>audi</td>\n",
       "      <td>a4</td>\n",
       "      <td>1.8</td>\n",
       "      <td>1999</td>\n",
       "      <td>4</td>\n",
       "      <td>manual(m5)</td>\n",
       "      <td>f</td>\n",
       "      <td>21</td>\n",
       "      <td>29</td>\n",
       "      <td>p</td>\n",
       "      <td>compact</td>\n",
       "    </tr>\n",
       "    <tr>\n",
       "      <th>3</th>\n",
       "      <td>audi</td>\n",
       "      <td>a4</td>\n",
       "      <td>2.0</td>\n",
       "      <td>2008</td>\n",
       "      <td>4</td>\n",
       "      <td>manual(m6)</td>\n",
       "      <td>f</td>\n",
       "      <td>20</td>\n",
       "      <td>31</td>\n",
       "      <td>p</td>\n",
       "      <td>compact</td>\n",
       "    </tr>\n",
       "  </tbody>\n",
       "</table>\n",
       "</div>"
      ],
      "text/plain": [
       "  manufacturer model  displ  year  cyl       trans drv  cty  hwy fl    class\n",
       "1         audi    a4    1.8  1999    4    auto(l5)   f   18   29  p  compact\n",
       "2         audi    a4    1.8  1999    4  manual(m5)   f   21   29  p  compact\n",
       "3         audi    a4    2.0  2008    4  manual(m6)   f   20   31  p  compact"
      ]
     },
     "execution_count": 95,
     "metadata": {},
     "output_type": "execute_result"
    }
   ],
   "source": [
    "mpg = data('mpg')\n",
    "mpg.head(3)"
   ]
  },
  {
   "cell_type": "markdown",
   "id": "21c8a5b3",
   "metadata": {},
   "source": [
    "### Is there a difference in fuel-efficiency in cars from 2008 vs 1999?  "
   ]
  },
  {
   "cell_type": "markdown",
   "id": "c4be07c5",
   "metadata": {},
   "source": [
    "Comparing fuel economy two different sub-groups (2-sample, 2-tailed t-test)"
   ]
  },
  {
   "cell_type": "markdown",
   "id": "eda733e5",
   "metadata": {},
   "source": [
    "$H_0$: there is no difference in fuel-efficiency in cars from 2008 vs 1999  \n",
    "$H_a$: there is a difference in fuel-efficiency in cars from 2008 vs 1999"
   ]
  },
  {
   "cell_type": "markdown",
   "id": "08f32dad",
   "metadata": {},
   "source": [
    "Calculate average fuel economy assuming 50% highway and 50% city driving"
   ]
  },
  {
   "cell_type": "code",
   "execution_count": 98,
   "id": "aa98a842",
   "metadata": {},
   "outputs": [
    {
     "data": {
      "text/html": [
       "<div>\n",
       "<style scoped>\n",
       "    .dataframe tbody tr th:only-of-type {\n",
       "        vertical-align: middle;\n",
       "    }\n",
       "\n",
       "    .dataframe tbody tr th {\n",
       "        vertical-align: top;\n",
       "    }\n",
       "\n",
       "    .dataframe thead th {\n",
       "        text-align: right;\n",
       "    }\n",
       "</style>\n",
       "<table border=\"1\" class=\"dataframe\">\n",
       "  <thead>\n",
       "    <tr style=\"text-align: right;\">\n",
       "      <th></th>\n",
       "      <th>manufacturer</th>\n",
       "      <th>model</th>\n",
       "      <th>displ</th>\n",
       "      <th>year</th>\n",
       "      <th>cyl</th>\n",
       "      <th>trans</th>\n",
       "      <th>drv</th>\n",
       "      <th>cty</th>\n",
       "      <th>hwy</th>\n",
       "      <th>fl</th>\n",
       "      <th>class</th>\n",
       "      <th>avg_fe</th>\n",
       "    </tr>\n",
       "  </thead>\n",
       "  <tbody>\n",
       "    <tr>\n",
       "      <th>1</th>\n",
       "      <td>audi</td>\n",
       "      <td>a4</td>\n",
       "      <td>1.8</td>\n",
       "      <td>1999</td>\n",
       "      <td>4</td>\n",
       "      <td>auto(l5)</td>\n",
       "      <td>f</td>\n",
       "      <td>18</td>\n",
       "      <td>29</td>\n",
       "      <td>p</td>\n",
       "      <td>compact</td>\n",
       "      <td>22.212766</td>\n",
       "    </tr>\n",
       "    <tr>\n",
       "      <th>2</th>\n",
       "      <td>audi</td>\n",
       "      <td>a4</td>\n",
       "      <td>1.8</td>\n",
       "      <td>1999</td>\n",
       "      <td>4</td>\n",
       "      <td>manual(m5)</td>\n",
       "      <td>f</td>\n",
       "      <td>21</td>\n",
       "      <td>29</td>\n",
       "      <td>p</td>\n",
       "      <td>compact</td>\n",
       "      <td>24.360000</td>\n",
       "    </tr>\n",
       "    <tr>\n",
       "      <th>3</th>\n",
       "      <td>audi</td>\n",
       "      <td>a4</td>\n",
       "      <td>2.0</td>\n",
       "      <td>2008</td>\n",
       "      <td>4</td>\n",
       "      <td>manual(m6)</td>\n",
       "      <td>f</td>\n",
       "      <td>20</td>\n",
       "      <td>31</td>\n",
       "      <td>p</td>\n",
       "      <td>compact</td>\n",
       "      <td>24.313725</td>\n",
       "    </tr>\n",
       "  </tbody>\n",
       "</table>\n",
       "</div>"
      ],
      "text/plain": [
       "  manufacturer model  displ  year  cyl       trans drv  cty  hwy fl    class  \\\n",
       "1         audi    a4    1.8  1999    4    auto(l5)   f   18   29  p  compact   \n",
       "2         audi    a4    1.8  1999    4  manual(m5)   f   21   29  p  compact   \n",
       "3         audi    a4    2.0  2008    4  manual(m6)   f   20   31  p  compact   \n",
       "\n",
       "      avg_fe  \n",
       "1  22.212766  \n",
       "2  24.360000  \n",
       "3  24.313725  "
      ]
     },
     "execution_count": 98,
     "metadata": {},
     "output_type": "execute_result"
    }
   ],
   "source": [
    "mpg['avg_fe'] = stats.hmean(mpg[['cty', 'hwy']], axis =1)\n",
    "mpg.head(3)"
   ]
  },
  {
   "cell_type": "code",
   "execution_count": 99,
   "id": "f5a8711f",
   "metadata": {},
   "outputs": [],
   "source": [
    "fe_2008 = mpg[mpg.year == 2008].avg_fe\n",
    "fe_1999 = mpg[mpg.year == 1999].avg_fe"
   ]
  },
  {
   "cell_type": "code",
   "execution_count": 147,
   "id": "8a9e39bc",
   "metadata": {},
   "outputs": [
    {
     "data": {
      "text/plain": [
       "(22.550836772260343, 25.850396545865912)"
      ]
     },
     "execution_count": 147,
     "metadata": {},
     "output_type": "execute_result"
    }
   ],
   "source": [
    "fe_2008.var(), fe_1999.var()"
   ]
  },
  {
   "cell_type": "code",
   "execution_count": 145,
   "id": "13d41a90",
   "metadata": {},
   "outputs": [
    {
     "data": {
      "text/plain": [
       "LeveneResult(statistic=0.031071867429515194, pvalue=0.8602339200830025)"
      ]
     },
     "execution_count": 145,
     "metadata": {},
     "output_type": "execute_result"
    }
   ],
   "source": [
    "stats.levene(fe_2008, fe_1999)"
   ]
  },
  {
   "cell_type": "code",
   "execution_count": 100,
   "id": "dc0886c1",
   "metadata": {},
   "outputs": [
    {
     "data": {
      "text/plain": [
       "(-0.3011962975077886, 0.7635345888327115)"
      ]
     },
     "execution_count": 100,
     "metadata": {},
     "output_type": "execute_result"
    }
   ],
   "source": [
    "t, p = stats.ttest_ind(fe_2008, fe_1999)\n",
    "t, p"
   ]
  },
  {
   "cell_type": "code",
   "execution_count": 101,
   "id": "66445956",
   "metadata": {},
   "outputs": [
    {
     "name": "stdout",
     "output_type": "stream",
     "text": [
      "Fail to reject the null hypothesis\n"
     ]
    }
   ],
   "source": [
    "if p<alpha:\n",
    "    print(\"reject null hypothesis\")\n",
    "else:\n",
    "    print(\"Fail to reject the null hypothesis\")"
   ]
  },
  {
   "cell_type": "markdown",
   "id": "29defecf",
   "metadata": {},
   "source": [
    "# 1-Sample, 1-Tailed T-Test (P/2)"
   ]
  },
  {
   "cell_type": "markdown",
   "id": "7095f64d",
   "metadata": {},
   "source": [
    "### Do compact cars have the same fuel-efficient than the average car?"
   ]
  },
  {
   "cell_type": "markdown",
   "id": "ab5140b2",
   "metadata": {},
   "source": [
    "$H_0$: There is less or equal fuel-efficiency between compact cars and the population average fuel-efficiency <b>(t<0)</b><br>\n",
    "$H_a$: Compact cars are more fuel efficient than the average car <b>(t>0)</b>"
   ]
  },
  {
   "cell_type": "code",
   "execution_count": 113,
   "id": "70441ea6",
   "metadata": {},
   "outputs": [
    {
     "data": {
      "text/plain": [
       "(7.512360093161354, 1.5617666348807727e-09)"
      ]
     },
     "execution_count": 113,
     "metadata": {},
     "output_type": "execute_result"
    }
   ],
   "source": [
    "fe_compact = mpg[mpg['class'] == 'compact'].avg_fe\n",
    "μ = mpg.avg_fe.mean()\n",
    "\n",
    "t, p = stats.ttest_1samp(fe_compact, μ) #1samp, 1 tailed, not independent\n",
    "t, p"
   ]
  },
  {
   "cell_type": "code",
   "execution_count": 114,
   "id": "b8b29eec",
   "metadata": {},
   "outputs": [
    {
     "name": "stdout",
     "output_type": "stream",
     "text": [
      "Reject Null Hypothesis\n"
     ]
    }
   ],
   "source": [
    "if (alpha < p):\n",
    "    print(\"reject Null Hypothesis\")\n",
    "elif((t > 0)):\n",
    "    print(\"Reject Null Hypothesis\")\n",
    "else:\n",
    "    print(\"Fail to reject Null Hypthesis\")"
   ]
  },
  {
   "cell_type": "markdown",
   "id": "7abefbe7",
   "metadata": {},
   "source": [
    "### Is the mean of monthly charges of customers who churn significantly higher than the mean across all customers?"
   ]
  },
  {
   "cell_type": "code",
   "execution_count": 127,
   "id": "c3015ae1",
   "metadata": {},
   "outputs": [],
   "source": [
    "df = pd.read_csv(\"Cust_Churn_Telco.csv\")"
   ]
  },
  {
   "cell_type": "markdown",
   "id": "76f53389",
   "metadata": {},
   "source": [
    "$H_{0}$: Mean of monthly charges of churned customers <= Mean of monthly charges of all customers  \n",
    "$H_{a}$: Mean of monthly charges of churned customers > Mean of monthly charges of all customers "
   ]
  },
  {
   "cell_type": "markdown",
   "id": "d9ad3177",
   "metadata": {},
   "source": [
    "Compute test statistic and probability (t-statistic & p-value)**\n",
    "\n",
    "- scipy.stats.ttest_1samp\n",
    "- For a 1-tailed test where our alternative hypothesis is testing for \"greater than\", we evaluate 𝑝/2 < 𝛼  and  𝑡 > 0. "
   ]
  },
  {
   "cell_type": "code",
   "execution_count": 128,
   "id": "ad71067f",
   "metadata": {},
   "outputs": [],
   "source": [
    "churn_sample = df[df.Churn=='Yes'].MonthlyCharges"
   ]
  },
  {
   "cell_type": "code",
   "execution_count": 129,
   "id": "224324b9",
   "metadata": {},
   "outputs": [],
   "source": [
    "overall_mean = df.MonthlyCharges.mean()"
   ]
  },
  {
   "cell_type": "code",
   "execution_count": 130,
   "id": "04b143a9",
   "metadata": {},
   "outputs": [],
   "source": [
    "t, p = stats.ttest_1samp(churn_sample, overall_mean)"
   ]
  },
  {
   "cell_type": "code",
   "execution_count": 132,
   "id": "46d2fe48",
   "metadata": {},
   "outputs": [
    {
     "data": {
      "text/plain": [
       "(16.965403080505645, 3.7406392993841064e-60)"
      ]
     },
     "execution_count": 132,
     "metadata": {},
     "output_type": "execute_result"
    }
   ],
   "source": [
    "t, p"
   ]
  },
  {
   "cell_type": "code",
   "execution_count": 133,
   "id": "d3a571f6",
   "metadata": {},
   "outputs": [
    {
     "name": "stdout",
     "output_type": "stream",
     "text": [
      "reject Null Hypothesis\n"
     ]
    }
   ],
   "source": [
    "if alpha < p/2:\n",
    "    print(\"reject Null Hypothesis\")\n",
    "elif t>0:\n",
    "    print(\"reject Null Hypothesis\")\n",
    "else:\n",
    "    print(\"fail to reject Null Hypothesis\")"
   ]
  },
  {
   "cell_type": "markdown",
   "id": "9017eb9d",
   "metadata": {},
   "source": [
    "# ANOVA Analysis of Variance\n",
    "\n",
    "Goal: Compare means of groups a, b & c. "
   ]
  },
  {
   "cell_type": "code",
   "execution_count": 117,
   "id": "267be414",
   "metadata": {},
   "outputs": [
    {
     "data": {
      "text/plain": [
       "versicolor    50\n",
       "setosa        50\n",
       "virginica     50\n",
       "Name: species, dtype: int64"
      ]
     },
     "execution_count": 117,
     "metadata": {},
     "output_type": "execute_result"
    }
   ],
   "source": [
    "df = sns.load_dataset('iris')\n",
    "df.species.value_counts()"
   ]
  },
  {
   "cell_type": "code",
   "execution_count": 120,
   "id": "3dbd89b4",
   "metadata": {},
   "outputs": [],
   "source": [
    "versicolor_sepal_length = df[df.species == 'versicolor'].sepal_length\n",
    "virginica_sepal_length = df[df.species == 'virginica'].sepal_length\n",
    "setosa_sepal_length = df[df.species == 'setosa'].sepal_length"
   ]
  },
  {
   "cell_type": "code",
   "execution_count": 121,
   "id": "bbcb21ed",
   "metadata": {},
   "outputs": [
    {
     "name": "stdout",
     "output_type": "stream",
     "text": [
      "5.936\n",
      "6.587999999999998\n",
      "5.005999999999999\n"
     ]
    }
   ],
   "source": [
    "print(versicolor_sepal_length.mean())\n",
    "print(virginica_sepal_length.mean())\n",
    "print(setosa_sepal_length.mean())"
   ]
  },
  {
   "cell_type": "markdown",
   "id": "ccb9196d",
   "metadata": {},
   "source": [
    "State Hypotheses**\n",
    "\n",
    "$H_{0}$: population means of the sepal length for the three species, versicolor, virginica & setosa, are all equal.  \n",
    "\n",
    "$H_{a}$: population means of the sepal length for the three species, versicolor, virginica & setosa, are NOT all equal. "
   ]
  },
  {
   "cell_type": "markdown",
   "id": "a6c06356",
   "metadata": {},
   "source": [
    "Set Significance Level**"
   ]
  },
  {
   "cell_type": "code",
   "execution_count": 123,
   "id": "9643bbf7",
   "metadata": {},
   "outputs": [],
   "source": [
    "alpha = .05"
   ]
  },
  {
   "cell_type": "code",
   "execution_count": 122,
   "id": "8fada24d",
   "metadata": {},
   "outputs": [
    {
     "name": "stdout",
     "output_type": "stream",
     "text": [
      "0.2664326530612246\n",
      "0.40434285714285706\n",
      "0.12424897959183666\n"
     ]
    }
   ],
   "source": [
    "print(versicolor_sepal_length.var())\n",
    "print(virginica_sepal_length.var())\n",
    "print(setosa_sepal_length.var())"
   ]
  },
  {
   "cell_type": "code",
   "execution_count": 124,
   "id": "c6f39670",
   "metadata": {},
   "outputs": [
    {
     "data": {
      "text/plain": [
       "(119.26450218450472, 1.6696691907693648e-31)"
      ]
     },
     "execution_count": 124,
     "metadata": {},
     "output_type": "execute_result"
    }
   ],
   "source": [
    "f, p = stats.f_oneway(versicolor_sepal_length, virginica_sepal_length, setosa_sepal_length)\n",
    "f, p"
   ]
  },
  {
   "cell_type": "code",
   "execution_count": 125,
   "id": "303f9472",
   "metadata": {},
   "outputs": [
    {
     "name": "stdout",
     "output_type": "stream",
     "text": [
      "We reject $H_{0}$\n"
     ]
    }
   ],
   "source": [
    "if p < alpha:\n",
    "    print(\"We reject $H_{0}$\")\n",
    "else:\n",
    "    print(\"We fail to reject $H_{0}$\")"
   ]
  },
  {
   "cell_type": "markdown",
   "id": "381f3ffd",
   "metadata": {},
   "source": [
    "# Pearson's Correlation (numeric x numeric)"
   ]
  },
  {
   "cell_type": "code",
   "execution_count": 135,
   "id": "7733f691",
   "metadata": {},
   "outputs": [],
   "source": [
    "url = \"https://gist.githubusercontent.com/ryanorsinger/3fce5a65b5fb8ab728af5192c7de857e/raw/a0422b7b73749842611742a1064e99088a47917d/clean_telco.csv\"\n",
    "df = pd.read_csv(url, index_col=\"id\")"
   ]
  },
  {
   "cell_type": "markdown",
   "id": "066ac90a",
   "metadata": {},
   "source": [
    "### Use the telco_churn data. Does tenure correlate with monthly charges?\n",
    "\n",
    "- $H_o$: tenure and monthly charges are not <b>linearly</b> correlated\n",
    "- $H_a$: tenure and monthly charges are <b>linearly</b> correlated"
   ]
  },
  {
   "cell_type": "code",
   "execution_count": 136,
   "id": "5cb6cc9b",
   "metadata": {},
   "outputs": [
    {
     "name": "stdout",
     "output_type": "stream",
     "text": [
      "We reject the null hypothesis\n"
     ]
    },
    {
     "data": {
      "text/plain": [
       "(0.2460222267886157, 1.8834273042643495e-97)"
      ]
     },
     "execution_count": 136,
     "metadata": {},
     "output_type": "execute_result"
    }
   ],
   "source": [
    "corr, p = stats.pearsonr(df.tenure_month, df.monthly_charges)\n",
    "\n",
    "if p < alpha:\n",
    "    print(\"We reject the null hypothesis\")\n",
    "else:\n",
    "    print(\"We fail to reject the null hypothesis\")\n",
    "    \n",
    "corr, p"
   ]
  },
  {
   "cell_type": "markdown",
   "id": "a05836a7",
   "metadata": {},
   "source": [
    "### Use the telco_churn data. Does tenure correlate with Total charges?"
   ]
  },
  {
   "cell_type": "markdown",
   "id": "612f32c3",
   "metadata": {},
   "source": [
    "\n",
    "- $H_o$: tenure and total charges are not linearly correlated\n",
    "- $H_a$: tenure and total charges are linearly correlated"
   ]
  },
  {
   "cell_type": "code",
   "execution_count": 137,
   "id": "f1fd4f31",
   "metadata": {},
   "outputs": [
    {
     "name": "stdout",
     "output_type": "stream",
     "text": [
      "We reject the null hypothesis\n"
     ]
    },
    {
     "data": {
      "text/plain": [
       "(0.8257328669183063, 0.0)"
      ]
     },
     "execution_count": 137,
     "metadata": {},
     "output_type": "execute_result"
    }
   ],
   "source": [
    "corr, p = stats.pearsonr(df.tenure_month, df.total_charges)\n",
    "\n",
    "if p < alpha:\n",
    "    print(\"We reject the null hypothesis\")\n",
    "else:\n",
    "    print(\"We fail to reject the null hypothesis\")\n",
    "    \n",
    "corr, p"
   ]
  },
  {
   "cell_type": "markdown",
   "id": "bdbd6fa6",
   "metadata": {},
   "source": [
    "# Chi-Squared ((categorical | boolean) x boolean) / Test for Independence"
   ]
  },
  {
   "cell_type": "code",
   "execution_count": 140,
   "id": "8aab1972",
   "metadata": {},
   "outputs": [],
   "source": [
    "df = data('tips')"
   ]
  },
  {
   "cell_type": "markdown",
   "id": "e8890b4c",
   "metadata": {},
   "source": [
    "Form hypothesis:\n",
    "\n",
    "- $H_0$ There is no association between the smoker and time of the day (independence)\n",
    "- $H_a$ is that there is a association between smoker and time of day"
   ]
  },
  {
   "cell_type": "code",
   "execution_count": 141,
   "id": "70b3d4fb",
   "metadata": {},
   "outputs": [
    {
     "data": {
      "text/html": [
       "<div>\n",
       "<style scoped>\n",
       "    .dataframe tbody tr th:only-of-type {\n",
       "        vertical-align: middle;\n",
       "    }\n",
       "\n",
       "    .dataframe tbody tr th {\n",
       "        vertical-align: top;\n",
       "    }\n",
       "\n",
       "    .dataframe thead th {\n",
       "        text-align: right;\n",
       "    }\n",
       "</style>\n",
       "<table border=\"1\" class=\"dataframe\">\n",
       "  <thead>\n",
       "    <tr style=\"text-align: right;\">\n",
       "      <th>time</th>\n",
       "      <th>Dinner</th>\n",
       "      <th>Lunch</th>\n",
       "    </tr>\n",
       "    <tr>\n",
       "      <th>smoker</th>\n",
       "      <th></th>\n",
       "      <th></th>\n",
       "    </tr>\n",
       "  </thead>\n",
       "  <tbody>\n",
       "    <tr>\n",
       "      <th>No</th>\n",
       "      <td>106</td>\n",
       "      <td>45</td>\n",
       "    </tr>\n",
       "    <tr>\n",
       "      <th>Yes</th>\n",
       "      <td>70</td>\n",
       "      <td>23</td>\n",
       "    </tr>\n",
       "  </tbody>\n",
       "</table>\n",
       "</div>"
      ],
      "text/plain": [
       "time    Dinner  Lunch\n",
       "smoker               \n",
       "No         106     45\n",
       "Yes         70     23"
      ]
     },
     "execution_count": 141,
     "metadata": {},
     "output_type": "execute_result"
    }
   ],
   "source": [
    "# pandas crosstab to make a 'contingency' table\n",
    "observed = pd.crosstab(df.smoker, df.time)\n",
    "observed"
   ]
  },
  {
   "cell_type": "code",
   "execution_count": 142,
   "id": "2933cf29",
   "metadata": {},
   "outputs": [],
   "source": [
    "chi2, p, degf, expected = stats.chi2_contingency(observed)"
   ]
  },
  {
   "cell_type": "code",
   "execution_count": 143,
   "id": "8f67ba22",
   "metadata": {},
   "outputs": [
    {
     "name": "stdout",
     "output_type": "stream",
     "text": [
      "Observed\n",
      "\n",
      "[[106  45]\n",
      " [ 70  23]]\n",
      "---\n",
      "Expected\n",
      "\n",
      "[[108  42]\n",
      " [ 67  25]]\n",
      "---\n",
      "\n",
      "chi^2 = 0.5054\n",
      "p     = 0.4771\n"
     ]
    }
   ],
   "source": [
    "print('Observed\\n')\n",
    "print(observed.values)\n",
    "print('---\\nExpected\\n')\n",
    "print(expected.astype(int))\n",
    "print('---\\n')\n",
    "print(f'chi^2 = {chi2:.4f}')\n",
    "print(f'p     = {p:.4f}')"
   ]
  },
  {
   "cell_type": "code",
   "execution_count": 144,
   "id": "6bc83251",
   "metadata": {},
   "outputs": [
    {
     "name": "stdout",
     "output_type": "stream",
     "text": [
      "we fail to reject the null\n"
     ]
    }
   ],
   "source": [
    "if p < alpha:\n",
    "    print('We reject the null')\n",
    "else:\n",
    "    print(\"we fail to reject the null\")"
   ]
  },
  {
   "cell_type": "code",
   "execution_count": null,
   "id": "5a26659c",
   "metadata": {},
   "outputs": [],
   "source": []
  }
 ],
 "metadata": {
  "kernelspec": {
   "display_name": "Python 3",
   "language": "python",
   "name": "python3"
  },
  "language_info": {
   "codemirror_mode": {
    "name": "ipython",
    "version": 3
   },
   "file_extension": ".py",
   "mimetype": "text/x-python",
   "name": "python",
   "nbconvert_exporter": "python",
   "pygments_lexer": "ipython3",
   "version": "3.8.8"
  }
 },
 "nbformat": 4,
 "nbformat_minor": 5
}
