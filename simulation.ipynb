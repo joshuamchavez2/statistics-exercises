{
 "cells": [
  {
   "cell_type": "code",
   "execution_count": 2,
   "id": "de73626b",
   "metadata": {},
   "outputs": [],
   "source": [
    "import numpy as np\n",
    "import pandas as pd"
   ]
  },
  {
   "cell_type": "code",
   "execution_count": 3,
   "id": "ae7d8009",
   "metadata": {},
   "outputs": [],
   "source": [
    "# How likely is it that you roll doubles when rolling two dice?"
   ]
  },
  {
   "cell_type": "code",
   "execution_count": 42,
   "id": "656e4095",
   "metadata": {},
   "outputs": [
    {
     "data": {
      "text/plain": [
       "0.1649"
      ]
     },
     "execution_count": 42,
     "metadata": {},
     "output_type": "execute_result"
    }
   ],
   "source": [
    "outcomes = [1, 2, 3, 4, 5, 6]\n",
    "n_simulations = 10_000\n",
    "n_trails = 2\n",
    "die1 = np.random.choice(outcomes, size=n_simulations)\n",
    "die2 = np.random.choice(outcomes, size=n_simulations)\n",
    "\n",
    "(die1 == die2).mean()"
   ]
  },
  {
   "cell_type": "code",
   "execution_count": null,
   "id": "210832ed",
   "metadata": {},
   "outputs": [],
   "source": [
    "# If you flip 8 coins, what is the probability of getting exactly 3 heads? What is the probability of getting more than 3 heads?"
   ]
  },
  {
   "cell_type": "code",
   "execution_count": 21,
   "id": "741b2e13",
   "metadata": {},
   "outputs": [],
   "source": [
    "#1 for heads, 0 for tails\n",
    "outcomes = [1, 0]\n",
    "n_simulations = 10_000\n",
    "n_trials = 8\n",
    "flips = np.random.choice(outcomes,  size=(n_simulations, n_trials))"
   ]
  },
  {
   "cell_type": "code",
   "execution_count": 24,
   "id": "0d1c5597",
   "metadata": {},
   "outputs": [],
   "source": [
    "results = flips.sum(axis=1)"
   ]
  },
  {
   "cell_type": "code",
   "execution_count": 26,
   "id": "6e2dbe66",
   "metadata": {},
   "outputs": [
    {
     "data": {
      "text/plain": [
       "0.2119"
      ]
     },
     "execution_count": 26,
     "metadata": {},
     "output_type": "execute_result"
    }
   ],
   "source": [
    "(results == 3).mean()"
   ]
  },
  {
   "cell_type": "code",
   "execution_count": 27,
   "id": "a53b0956",
   "metadata": {},
   "outputs": [
    {
     "data": {
      "text/plain": [
       "0.6399"
      ]
     },
     "execution_count": 27,
     "metadata": {},
     "output_type": "execute_result"
    }
   ],
   "source": [
    "(results >3).mean()"
   ]
  },
  {
   "cell_type": "code",
   "execution_count": 28,
   "id": "80aff03e",
   "metadata": {},
   "outputs": [],
   "source": [
    "# There are approximitely 3 web development cohorts for every 1 data science cohort at Codeup.\n",
    "# Assuming that Codeup randomly selects an alumni to put on a billboard,\n",
    "# what are the odds that the two billboards I drive past both have data science students on them?"
   ]
  },
  {
   "cell_type": "code",
   "execution_count": 32,
   "id": "6dba424c",
   "metadata": {},
   "outputs": [],
   "source": [
    "# 1 for Data science\n",
    "# 0 for Web Dev\n",
    "outcomes = [1, 0]\n",
    "n_simulations = 10_000\n",
    "n_trials = 2\n",
    "billboard = np.random.choice(outcomes,  size=(n_simulations, n_trials), p=[0.25, 0.75])"
   ]
  },
  {
   "cell_type": "code",
   "execution_count": 33,
   "id": "122ad484",
   "metadata": {},
   "outputs": [
    {
     "data": {
      "text/plain": [
       "array([[1, 1],\n",
       "       [0, 0],\n",
       "       [0, 0],\n",
       "       ...,\n",
       "       [1, 0],\n",
       "       [0, 1],\n",
       "       [0, 0]])"
      ]
     },
     "execution_count": 33,
     "metadata": {},
     "output_type": "execute_result"
    }
   ],
   "source": [
    "billboard"
   ]
  },
  {
   "cell_type": "code",
   "execution_count": 34,
   "id": "24ba7c31",
   "metadata": {},
   "outputs": [],
   "source": [
    "results = billboard.sum(axis=1)"
   ]
  },
  {
   "cell_type": "code",
   "execution_count": 35,
   "id": "6fc380eb",
   "metadata": {},
   "outputs": [
    {
     "data": {
      "text/plain": [
       "array([2, 0, 0, ..., 1, 1, 0])"
      ]
     },
     "execution_count": 35,
     "metadata": {},
     "output_type": "execute_result"
    }
   ],
   "source": [
    "results"
   ]
  },
  {
   "cell_type": "code",
   "execution_count": 36,
   "id": "dd8c30a5",
   "metadata": {},
   "outputs": [
    {
     "data": {
      "text/plain": [
       "0.0617"
      ]
     },
     "execution_count": 36,
     "metadata": {},
     "output_type": "execute_result"
    }
   ],
   "source": [
    "(results == 2).mean()"
   ]
  },
  {
   "cell_type": "code",
   "execution_count": null,
   "id": "6594e9f1",
   "metadata": {},
   "outputs": [],
   "source": [
    "# Codeup students buy, on average, 3 poptart packages (+- 1.5) a day from the snack vending machine.\n",
    "# If on monday the machine is restocked with 17 poptart packages, how likely is it that I will be\n",
    "# able to buy some poptarts on Friday afternoon?"
   ]
  },
  {
   "cell_type": "code",
   "execution_count": 62,
   "id": "fc49d34a",
   "metadata": {},
   "outputs": [],
   "source": [
    "n_simulations = 10_000"
   ]
  },
  {
   "cell_type": "code",
   "execution_count": 63,
   "id": "986c0eed",
   "metadata": {},
   "outputs": [],
   "source": [
    "n_trials = 5"
   ]
  },
  {
   "cell_type": "code",
   "execution_count": 66,
   "id": "d11f8045",
   "metadata": {},
   "outputs": [],
   "source": [
    "results = np.random.normal(loc = 3, scale = 1.5, size=(n_simulations, n_trials))"
   ]
  },
  {
   "cell_type": "code",
   "execution_count": 67,
   "id": "b9e16e61",
   "metadata": {},
   "outputs": [
    {
     "data": {
      "text/plain": [
       "array([[4., 3., 3., 5., 2.],\n",
       "       [3., 3., 2., 4., 3.],\n",
       "       [1., 3., 3., 5., 4.],\n",
       "       ...,\n",
       "       [5., 5., 3., 3., 2.],\n",
       "       [2., 3., 1., 3., 5.],\n",
       "       [3., 3., 2., 3., 1.]])"
      ]
     },
     "execution_count": 67,
     "metadata": {},
     "output_type": "execute_result"
    }
   ],
   "source": [
    "np.rint(results)"
   ]
  },
  {
   "cell_type": "code",
   "execution_count": 68,
   "id": "24661e16",
   "metadata": {},
   "outputs": [],
   "source": [
    "results = results.sum(axis=1)"
   ]
  },
  {
   "cell_type": "code",
   "execution_count": 69,
   "id": "9132db6f",
   "metadata": {},
   "outputs": [
    {
     "data": {
      "text/plain": [
       "array([16.34190559, 14.91340453, 15.81514084, ..., 17.73629545,\n",
       "       14.98901724, 11.00877221])"
      ]
     },
     "execution_count": 69,
     "metadata": {},
     "output_type": "execute_result"
    }
   ],
   "source": [
    "results"
   ]
  },
  {
   "cell_type": "code",
   "execution_count": 70,
   "id": "6024ff5b",
   "metadata": {},
   "outputs": [
    {
     "data": {
      "text/plain": [
       "0.7211"
      ]
     },
     "execution_count": 70,
     "metadata": {},
     "output_type": "execute_result"
    }
   ],
   "source": [
    "(results < 17).mean()"
   ]
  },
  {
   "cell_type": "code",
   "execution_count": 60,
   "id": "fdbbb10c",
   "metadata": {},
   "outputs": [],
   "source": [
    "# Compare Heights\n",
    "\n",
    "# Men have an average height of 178 cm and standard deviation of 8cm.\n",
    "# Women have a mean of 170, sd = 6cm.\n",
    "# Since you have means and standard deviations, you can use np.random.normal to generate observations.\n",
    "# If a man and woman are chosen at random, P(woman taller than man)?"
   ]
  },
  {
   "cell_type": "code",
   "execution_count": 71,
   "id": "4ef80d5c",
   "metadata": {},
   "outputs": [],
   "source": [
    "n_simulations = 10_000"
   ]
  },
  {
   "cell_type": "code",
   "execution_count": null,
   "id": "d8f02d95",
   "metadata": {},
   "outputs": [],
   "source": []
  },
  {
   "cell_type": "code",
   "execution_count": 72,
   "id": "6dbf83b5",
   "metadata": {},
   "outputs": [],
   "source": [
    "men = np.random.normal(loc = 178, scale = 8, size=n_simulations)\n",
    "women = np.random.normal(loc = 170, scale = 6, size=n_simulations)"
   ]
  },
  {
   "cell_type": "code",
   "execution_count": 103,
   "id": "e08dd809",
   "metadata": {},
   "outputs": [
    {
     "data": {
      "text/plain": [
       "array([False,  True, False, ..., False,  True, False])"
      ]
     },
     "execution_count": 103,
     "metadata": {},
     "output_type": "execute_result"
    }
   ],
   "source": [
    "women > men"
   ]
  },
  {
   "cell_type": "code",
   "execution_count": 74,
   "id": "9a2bed7e",
   "metadata": {},
   "outputs": [
    {
     "data": {
      "text/plain": [
       "0.2083"
      ]
     },
     "execution_count": 74,
     "metadata": {},
     "output_type": "execute_result"
    }
   ],
   "source": [
    "(women > men).mean()"
   ]
  },
  {
   "cell_type": "code",
   "execution_count": null,
   "id": "e8f8dfe7",
   "metadata": {},
   "outputs": [],
   "source": [
    "# When installing anaconda on a student's computer, there's a 1 in 250 chance that the download is corrupted and the installation fails.\n",
    "# What are the odds that after having 50 students download anaconda, no one has an installation issue? 100 students?\n",
    "\n",
    "# What is the probability that we observe an installation issue within the first 150 students that download anaconda?\n",
    "\n",
    "# How likely is it that 450 students all download anaconda without an issue?"
   ]
  },
  {
   "cell_type": "code",
   "execution_count": 205,
   "id": "32a1319b",
   "metadata": {},
   "outputs": [],
   "source": [
    "# fails =1, success =0\n",
    "outcomes = [1, 0]\n",
    "n_simulations = 10_000\n",
    "n_trails = 50\n",
    "fails = np.random.choice(outcomes,  size=(n_simulations, n_trails), p=[.004, .996])"
   ]
  },
  {
   "cell_type": "code",
   "execution_count": 206,
   "id": "080f60c8",
   "metadata": {},
   "outputs": [],
   "source": [
    "fails = fails.sum(axis=1)"
   ]
  },
  {
   "cell_type": "code",
   "execution_count": 207,
   "id": "22150c7c",
   "metadata": {},
   "outputs": [
    {
     "data": {
      "text/plain": [
       "array([0, 0, 1, ..., 0, 0, 0])"
      ]
     },
     "execution_count": 207,
     "metadata": {},
     "output_type": "execute_result"
    }
   ],
   "source": [
    "fails"
   ]
  },
  {
   "cell_type": "code",
   "execution_count": 208,
   "id": "452f1210",
   "metadata": {},
   "outputs": [
    {
     "data": {
      "text/plain": [
       "0.8123"
      ]
     },
     "execution_count": 208,
     "metadata": {},
     "output_type": "execute_result"
    }
   ],
   "source": [
    "1- (fails >=1).mean()"
   ]
  },
  {
   "cell_type": "code",
   "execution_count": 209,
   "id": "8c2bedbf",
   "metadata": {},
   "outputs": [
    {
     "data": {
      "text/plain": [
       "0.9115"
      ]
     },
     "execution_count": 209,
     "metadata": {},
     "output_type": "execute_result"
    }
   ],
   "source": [
    "# fails =1, success =0\n",
    "outcomes = [1, 0]\n",
    "n_simulations = 10_000\n",
    "n_trails = 100\n",
    "fails = np.random.choice(outcomes,  size=(n_simulations, n_trials), p=[.004, .996])\n",
    "fails = fails.sum(axis=1)\n",
    "1 - (fails >=1).mean()"
   ]
  },
  {
   "cell_type": "code",
   "execution_count": 210,
   "id": "0fe15546",
   "metadata": {},
   "outputs": [
    {
     "data": {
      "text/plain": [
       "0.9087"
      ]
     },
     "execution_count": 210,
     "metadata": {},
     "output_type": "execute_result"
    }
   ],
   "source": [
    "# fails =1, success =0\n",
    "outcomes = [1, 0]\n",
    "n_simulations = 10_000\n",
    "n_trails = 150\n",
    "fails = np.random.choice(outcomes,  size=(n_simulations, n_trials), p=[.004, .996])\n",
    "fails = fails.sum(axis=1)\n",
    "1 - (fails >=1).mean()"
   ]
  },
  {
   "cell_type": "code",
   "execution_count": 211,
   "id": "75b48d6f",
   "metadata": {},
   "outputs": [
    {
     "data": {
      "text/plain": [
       "0.9166"
      ]
     },
     "execution_count": 211,
     "metadata": {},
     "output_type": "execute_result"
    }
   ],
   "source": [
    "outcomes = [1, 0]\n",
    "n_simulations = 10_000\n",
    "n_trails = 450\n",
    "fails = np.random.choice(outcomes,  size=(n_simulations, n_trials), p=[.004, .996])\n",
    "fails = fails.sum(axis=1)\n",
    "1 - (fails >=1).mean()"
   ]
  },
  {
   "cell_type": "code",
   "execution_count": 104,
   "id": "ea9062ad",
   "metadata": {},
   "outputs": [],
   "source": [
    "# There's a 70% chance on any given day that there will be at least one food truck at Travis Park.\n",
    "#However, you haven't seen a food truck there in 3 days. How unlikely is this?\n",
    "\n",
    "# How likely is it that a food truck will show up sometime this week?"
   ]
  },
  {
   "cell_type": "code",
   "execution_count": 105,
   "id": "a43b06b5",
   "metadata": {},
   "outputs": [],
   "source": [
    "# 1 is True, 0 is false\n",
    "outcomes = [1, 0]\n",
    "n_simulations = 10_000\n",
    "n_trial = 3\n",
    "food_truck = np.random.choice(outcomes,  size=(n_simulations, n_trials), p=[.70, .30])\n",
    "food_truck = food_truck.sum(axis=1)"
   ]
  },
  {
   "cell_type": "code",
   "execution_count": 109,
   "id": "dcd2a6ca",
   "metadata": {},
   "outputs": [
    {
     "name": "stdout",
     "output_type": "stream",
     "text": [
      "The likely change of not seeing a food truck in 3 days is 0.0028\n"
     ]
    }
   ],
   "source": [
    "print(f\"The likely change of not seeing a food truck in 3 days is {(food_truck == 0).mean()}\")"
   ]
  },
  {
   "cell_type": "code",
   "execution_count": 110,
   "id": "1df428f9",
   "metadata": {},
   "outputs": [
    {
     "name": "stdout",
     "output_type": "stream",
     "text": [
      "The likely change of not seeing a food truck in 7 days is 0.0023\n"
     ]
    }
   ],
   "source": [
    "# 1 is True, 0 is false\n",
    "outcomes = [1, 0]\n",
    "n_simulations = 10_000\n",
    "n_trial = 7\n",
    "food_truck = np.random.choice(outcomes,  size=(n_simulations, n_trials), p=[.70, .30])\n",
    "food_truck = food_truck.sum(axis=1)\n",
    "print(f\"The likely change of not seeing a food truck in 7 days is {(food_truck == 0).mean()}\")"
   ]
  },
  {
   "cell_type": "code",
   "execution_count": 102,
   "id": "65d8720c",
   "metadata": {},
   "outputs": [],
   "source": [
    "# If 23 people are in the same room, what are the odds that two of them share a birthday? What if it's 20 people? 40?"
   ]
  },
  {
   "cell_type": "code",
   "execution_count": 251,
   "id": "746bedb1",
   "metadata": {},
   "outputs": [],
   "source": [
    "# 1 is True, 0 is false\n",
    "outcomes = list(range(1, 366))\n",
    "n_simulations = 10_000\n",
    "n_trials = 23\n",
    "food_truck = np.random.choice(outcomes,  size=(n_simulations, n_trials))"
   ]
  },
  {
   "cell_type": "code",
   "execution_count": 252,
   "id": "50c92c68",
   "metadata": {},
   "outputs": [],
   "source": [
    "df = pd.DataFrame(food_truck)"
   ]
  },
  {
   "cell_type": "code",
   "execution_count": 253,
   "id": "fe90175b",
   "metadata": {},
   "outputs": [
    {
     "data": {
      "text/html": [
       "<div>\n",
       "<style scoped>\n",
       "    .dataframe tbody tr th:only-of-type {\n",
       "        vertical-align: middle;\n",
       "    }\n",
       "\n",
       "    .dataframe tbody tr th {\n",
       "        vertical-align: top;\n",
       "    }\n",
       "\n",
       "    .dataframe thead th {\n",
       "        text-align: right;\n",
       "    }\n",
       "</style>\n",
       "<table border=\"1\" class=\"dataframe\">\n",
       "  <thead>\n",
       "    <tr style=\"text-align: right;\">\n",
       "      <th></th>\n",
       "      <th>0</th>\n",
       "      <th>1</th>\n",
       "      <th>2</th>\n",
       "      <th>3</th>\n",
       "      <th>4</th>\n",
       "      <th>5</th>\n",
       "      <th>6</th>\n",
       "      <th>7</th>\n",
       "      <th>8</th>\n",
       "      <th>9</th>\n",
       "      <th>...</th>\n",
       "      <th>13</th>\n",
       "      <th>14</th>\n",
       "      <th>15</th>\n",
       "      <th>16</th>\n",
       "      <th>17</th>\n",
       "      <th>18</th>\n",
       "      <th>19</th>\n",
       "      <th>20</th>\n",
       "      <th>21</th>\n",
       "      <th>22</th>\n",
       "    </tr>\n",
       "  </thead>\n",
       "  <tbody>\n",
       "    <tr>\n",
       "      <th>0</th>\n",
       "      <td>28</td>\n",
       "      <td>54</td>\n",
       "      <td>171</td>\n",
       "      <td>363</td>\n",
       "      <td>241</td>\n",
       "      <td>333</td>\n",
       "      <td>113</td>\n",
       "      <td>24</td>\n",
       "      <td>97</td>\n",
       "      <td>194</td>\n",
       "      <td>...</td>\n",
       "      <td>154</td>\n",
       "      <td>21</td>\n",
       "      <td>201</td>\n",
       "      <td>305</td>\n",
       "      <td>149</td>\n",
       "      <td>297</td>\n",
       "      <td>295</td>\n",
       "      <td>322</td>\n",
       "      <td>83</td>\n",
       "      <td>362</td>\n",
       "    </tr>\n",
       "    <tr>\n",
       "      <th>1</th>\n",
       "      <td>281</td>\n",
       "      <td>243</td>\n",
       "      <td>69</td>\n",
       "      <td>196</td>\n",
       "      <td>313</td>\n",
       "      <td>58</td>\n",
       "      <td>126</td>\n",
       "      <td>338</td>\n",
       "      <td>165</td>\n",
       "      <td>225</td>\n",
       "      <td>...</td>\n",
       "      <td>39</td>\n",
       "      <td>37</td>\n",
       "      <td>167</td>\n",
       "      <td>214</td>\n",
       "      <td>10</td>\n",
       "      <td>339</td>\n",
       "      <td>68</td>\n",
       "      <td>321</td>\n",
       "      <td>197</td>\n",
       "      <td>228</td>\n",
       "    </tr>\n",
       "    <tr>\n",
       "      <th>2</th>\n",
       "      <td>197</td>\n",
       "      <td>254</td>\n",
       "      <td>337</td>\n",
       "      <td>38</td>\n",
       "      <td>36</td>\n",
       "      <td>96</td>\n",
       "      <td>79</td>\n",
       "      <td>339</td>\n",
       "      <td>33</td>\n",
       "      <td>301</td>\n",
       "      <td>...</td>\n",
       "      <td>183</td>\n",
       "      <td>277</td>\n",
       "      <td>231</td>\n",
       "      <td>201</td>\n",
       "      <td>191</td>\n",
       "      <td>267</td>\n",
       "      <td>206</td>\n",
       "      <td>178</td>\n",
       "      <td>111</td>\n",
       "      <td>188</td>\n",
       "    </tr>\n",
       "    <tr>\n",
       "      <th>3</th>\n",
       "      <td>121</td>\n",
       "      <td>83</td>\n",
       "      <td>280</td>\n",
       "      <td>276</td>\n",
       "      <td>275</td>\n",
       "      <td>185</td>\n",
       "      <td>153</td>\n",
       "      <td>227</td>\n",
       "      <td>341</td>\n",
       "      <td>206</td>\n",
       "      <td>...</td>\n",
       "      <td>199</td>\n",
       "      <td>337</td>\n",
       "      <td>95</td>\n",
       "      <td>257</td>\n",
       "      <td>173</td>\n",
       "      <td>187</td>\n",
       "      <td>159</td>\n",
       "      <td>80</td>\n",
       "      <td>255</td>\n",
       "      <td>334</td>\n",
       "    </tr>\n",
       "    <tr>\n",
       "      <th>4</th>\n",
       "      <td>126</td>\n",
       "      <td>186</td>\n",
       "      <td>161</td>\n",
       "      <td>25</td>\n",
       "      <td>206</td>\n",
       "      <td>33</td>\n",
       "      <td>155</td>\n",
       "      <td>202</td>\n",
       "      <td>207</td>\n",
       "      <td>159</td>\n",
       "      <td>...</td>\n",
       "      <td>1</td>\n",
       "      <td>104</td>\n",
       "      <td>180</td>\n",
       "      <td>342</td>\n",
       "      <td>25</td>\n",
       "      <td>213</td>\n",
       "      <td>27</td>\n",
       "      <td>73</td>\n",
       "      <td>313</td>\n",
       "      <td>234</td>\n",
       "    </tr>\n",
       "    <tr>\n",
       "      <th>...</th>\n",
       "      <td>...</td>\n",
       "      <td>...</td>\n",
       "      <td>...</td>\n",
       "      <td>...</td>\n",
       "      <td>...</td>\n",
       "      <td>...</td>\n",
       "      <td>...</td>\n",
       "      <td>...</td>\n",
       "      <td>...</td>\n",
       "      <td>...</td>\n",
       "      <td>...</td>\n",
       "      <td>...</td>\n",
       "      <td>...</td>\n",
       "      <td>...</td>\n",
       "      <td>...</td>\n",
       "      <td>...</td>\n",
       "      <td>...</td>\n",
       "      <td>...</td>\n",
       "      <td>...</td>\n",
       "      <td>...</td>\n",
       "      <td>...</td>\n",
       "    </tr>\n",
       "    <tr>\n",
       "      <th>9995</th>\n",
       "      <td>99</td>\n",
       "      <td>45</td>\n",
       "      <td>289</td>\n",
       "      <td>158</td>\n",
       "      <td>14</td>\n",
       "      <td>250</td>\n",
       "      <td>51</td>\n",
       "      <td>192</td>\n",
       "      <td>85</td>\n",
       "      <td>63</td>\n",
       "      <td>...</td>\n",
       "      <td>128</td>\n",
       "      <td>172</td>\n",
       "      <td>75</td>\n",
       "      <td>246</td>\n",
       "      <td>250</td>\n",
       "      <td>284</td>\n",
       "      <td>83</td>\n",
       "      <td>56</td>\n",
       "      <td>205</td>\n",
       "      <td>218</td>\n",
       "    </tr>\n",
       "    <tr>\n",
       "      <th>9996</th>\n",
       "      <td>42</td>\n",
       "      <td>219</td>\n",
       "      <td>234</td>\n",
       "      <td>88</td>\n",
       "      <td>160</td>\n",
       "      <td>355</td>\n",
       "      <td>99</td>\n",
       "      <td>47</td>\n",
       "      <td>78</td>\n",
       "      <td>275</td>\n",
       "      <td>...</td>\n",
       "      <td>23</td>\n",
       "      <td>226</td>\n",
       "      <td>301</td>\n",
       "      <td>365</td>\n",
       "      <td>84</td>\n",
       "      <td>95</td>\n",
       "      <td>210</td>\n",
       "      <td>187</td>\n",
       "      <td>305</td>\n",
       "      <td>344</td>\n",
       "    </tr>\n",
       "    <tr>\n",
       "      <th>9997</th>\n",
       "      <td>343</td>\n",
       "      <td>134</td>\n",
       "      <td>124</td>\n",
       "      <td>133</td>\n",
       "      <td>360</td>\n",
       "      <td>146</td>\n",
       "      <td>357</td>\n",
       "      <td>340</td>\n",
       "      <td>5</td>\n",
       "      <td>141</td>\n",
       "      <td>...</td>\n",
       "      <td>277</td>\n",
       "      <td>107</td>\n",
       "      <td>72</td>\n",
       "      <td>118</td>\n",
       "      <td>138</td>\n",
       "      <td>284</td>\n",
       "      <td>284</td>\n",
       "      <td>304</td>\n",
       "      <td>233</td>\n",
       "      <td>97</td>\n",
       "    </tr>\n",
       "    <tr>\n",
       "      <th>9998</th>\n",
       "      <td>365</td>\n",
       "      <td>32</td>\n",
       "      <td>9</td>\n",
       "      <td>210</td>\n",
       "      <td>300</td>\n",
       "      <td>172</td>\n",
       "      <td>234</td>\n",
       "      <td>22</td>\n",
       "      <td>160</td>\n",
       "      <td>89</td>\n",
       "      <td>...</td>\n",
       "      <td>323</td>\n",
       "      <td>116</td>\n",
       "      <td>259</td>\n",
       "      <td>297</td>\n",
       "      <td>6</td>\n",
       "      <td>215</td>\n",
       "      <td>218</td>\n",
       "      <td>48</td>\n",
       "      <td>98</td>\n",
       "      <td>188</td>\n",
       "    </tr>\n",
       "    <tr>\n",
       "      <th>9999</th>\n",
       "      <td>304</td>\n",
       "      <td>185</td>\n",
       "      <td>346</td>\n",
       "      <td>81</td>\n",
       "      <td>62</td>\n",
       "      <td>49</td>\n",
       "      <td>105</td>\n",
       "      <td>148</td>\n",
       "      <td>296</td>\n",
       "      <td>365</td>\n",
       "      <td>...</td>\n",
       "      <td>233</td>\n",
       "      <td>365</td>\n",
       "      <td>190</td>\n",
       "      <td>350</td>\n",
       "      <td>211</td>\n",
       "      <td>123</td>\n",
       "      <td>96</td>\n",
       "      <td>265</td>\n",
       "      <td>315</td>\n",
       "      <td>15</td>\n",
       "    </tr>\n",
       "  </tbody>\n",
       "</table>\n",
       "<p>10000 rows × 23 columns</p>\n",
       "</div>"
      ],
      "text/plain": [
       "       0    1    2    3    4    5    6    7    8    9   ...   13   14   15  \\\n",
       "0      28   54  171  363  241  333  113   24   97  194  ...  154   21  201   \n",
       "1     281  243   69  196  313   58  126  338  165  225  ...   39   37  167   \n",
       "2     197  254  337   38   36   96   79  339   33  301  ...  183  277  231   \n",
       "3     121   83  280  276  275  185  153  227  341  206  ...  199  337   95   \n",
       "4     126  186  161   25  206   33  155  202  207  159  ...    1  104  180   \n",
       "...   ...  ...  ...  ...  ...  ...  ...  ...  ...  ...  ...  ...  ...  ...   \n",
       "9995   99   45  289  158   14  250   51  192   85   63  ...  128  172   75   \n",
       "9996   42  219  234   88  160  355   99   47   78  275  ...   23  226  301   \n",
       "9997  343  134  124  133  360  146  357  340    5  141  ...  277  107   72   \n",
       "9998  365   32    9  210  300  172  234   22  160   89  ...  323  116  259   \n",
       "9999  304  185  346   81   62   49  105  148  296  365  ...  233  365  190   \n",
       "\n",
       "       16   17   18   19   20   21   22  \n",
       "0     305  149  297  295  322   83  362  \n",
       "1     214   10  339   68  321  197  228  \n",
       "2     201  191  267  206  178  111  188  \n",
       "3     257  173  187  159   80  255  334  \n",
       "4     342   25  213   27   73  313  234  \n",
       "...   ...  ...  ...  ...  ...  ...  ...  \n",
       "9995  246  250  284   83   56  205  218  \n",
       "9996  365   84   95  210  187  305  344  \n",
       "9997  118  138  284  284  304  233   97  \n",
       "9998  297    6  215  218   48   98  188  \n",
       "9999  350  211  123   96  265  315   15  \n",
       "\n",
       "[10000 rows x 23 columns]"
      ]
     },
     "execution_count": 253,
     "metadata": {},
     "output_type": "execute_result"
    }
   ],
   "source": [
    "df"
   ]
  },
  {
   "cell_type": "code",
   "execution_count": 254,
   "id": "2d48883a",
   "metadata": {},
   "outputs": [],
   "source": [
    "no_one_shares_bday = df.apply(lambda row: row.is_unique , axis=1)"
   ]
  },
  {
   "cell_type": "code",
   "execution_count": 255,
   "id": "1c5c6d53",
   "metadata": {},
   "outputs": [
    {
     "data": {
      "text/plain": [
       "0       False\n",
       "1        True\n",
       "2        True\n",
       "3        True\n",
       "4       False\n",
       "        ...  \n",
       "9995    False\n",
       "9996     True\n",
       "9997    False\n",
       "9998     True\n",
       "9999    False\n",
       "Length: 10000, dtype: bool"
      ]
     },
     "execution_count": 255,
     "metadata": {},
     "output_type": "execute_result"
    }
   ],
   "source": [
    "no_one_shares_bday"
   ]
  },
  {
   "cell_type": "code",
   "execution_count": 256,
   "id": "89a67a19",
   "metadata": {},
   "outputs": [
    {
     "data": {
      "text/plain": [
       "0.5005"
      ]
     },
     "execution_count": 256,
     "metadata": {},
     "output_type": "execute_result"
    }
   ],
   "source": [
    "(no_one_shares_bday == True).mean()"
   ]
  },
  {
   "cell_type": "code",
   "execution_count": 260,
   "id": "162b60a2",
   "metadata": {},
   "outputs": [
    {
     "data": {
      "text/plain": [
       "0.5947"
      ]
     },
     "execution_count": 260,
     "metadata": {},
     "output_type": "execute_result"
    }
   ],
   "source": [
    "# 1 is True, 0 is false for 20 students\n",
    "outcomes = list(range(1, 366))\n",
    "n_simulations = 10_000\n",
    "n_trials = 20\n",
    "food_truck = np.random.choice(outcomes,  size=(n_simulations, n_trials))\n",
    "df = pd.DataFrame(food_truck)\n",
    "no_one_shares_bday = df.apply(lambda row: row.is_unique , axis=1)\n",
    "(no_one_shares_bday == True).mean()"
   ]
  },
  {
   "cell_type": "code",
   "execution_count": 262,
   "id": "4114aa5f",
   "metadata": {},
   "outputs": [
    {
     "data": {
      "text/plain": [
       "0.108"
      ]
     },
     "execution_count": 262,
     "metadata": {},
     "output_type": "execute_result"
    }
   ],
   "source": [
    "# 1 is True, 0 is false For 40 students\n",
    "outcomes = list(range(1, 366))\n",
    "n_simulations = 10_000\n",
    "n_trials = 40\n",
    "food_truck = np.random.choice(outcomes,  size=(n_simulations, n_trials))\n",
    "df = pd.DataFrame(food_truck)\n",
    "no_one_shares_bday = df.apply(lambda row: row.is_unique , axis=1)\n",
    "(no_one_shares_bday == True).mean()"
   ]
  },
  {
   "cell_type": "code",
   "execution_count": null,
   "id": "2a794a60",
   "metadata": {},
   "outputs": [],
   "source": []
  }
 ],
 "metadata": {
  "kernelspec": {
   "display_name": "Python 3",
   "language": "python",
   "name": "python3"
  },
  "language_info": {
   "codemirror_mode": {
    "name": "ipython",
    "version": 3
   },
   "file_extension": ".py",
   "mimetype": "text/x-python",
   "name": "python",
   "nbconvert_exporter": "python",
   "pygments_lexer": "ipython3",
   "version": "3.8.8"
  }
 },
 "nbformat": 4,
 "nbformat_minor": 5
}
