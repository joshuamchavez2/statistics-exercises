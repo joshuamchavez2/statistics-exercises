{
 "cells": [
  {
   "cell_type": "code",
   "execution_count": 72,
   "id": "2342dac2",
   "metadata": {},
   "outputs": [],
   "source": [
    "import matplotlib.pyplot as plt\n",
    "import numpy as np\n",
    "import pandas as pd\n",
    "from scipy import stats\n",
    "from env import host, user, password\n",
    "#import viz # curriculum viz example code\n",
    "\n",
    "np.random.seed(123)"
   ]
  },
  {
   "cell_type": "code",
   "execution_count": 81,
   "id": "3aaaf1ad",
   "metadata": {},
   "outputs": [],
   "source": [
    "def get_db_url(url=\"employees\"):\n",
    "    url = f'mysql+pymysql://{user}:{password}@{host}/{url}'\n",
    "    return url"
   ]
  },
  {
   "cell_type": "markdown",
   "id": "fc6f9faa",
   "metadata": {},
   "source": [
    "# #1 A bank found that the average number of cars waiting during the noon hour at a drive-up window follows a Poisson distribution with a mean of 2 cars.\n",
    "\n",
    "### Make a chart of this distribution and answer these questions concerning the probability of cars waiting at the drive-up window."
   ]
  },
  {
   "cell_type": "code",
   "execution_count": 2,
   "id": "eefe4310",
   "metadata": {},
   "outputs": [],
   "source": [
    "driveup = stats.poisson(2)"
   ]
  },
  {
   "cell_type": "code",
   "execution_count": 3,
   "id": "75200109",
   "metadata": {},
   "outputs": [
    {
     "data": {
      "text/plain": [
       "Text(0.5, 1.0, 'Drive up')"
      ]
     },
     "execution_count": 3,
     "metadata": {},
     "output_type": "execute_result"
    },
    {
     "data": {
      "image/png": "[encoded data removed]",
      "text/plain": [
       "<Figure size 432x288 with 1 Axes>"
      ]
     },
     "metadata": {
      "needs_background": "light"
     },
     "output_type": "display_data"
    }
   ],
   "source": [
    "n = 100_000\n",
    "\n",
    "x = driveup.rvs(n)\n",
    "\n",
    "plt.hist(x, bins=range(0, 10), align='left', width=1, edgecolor='black')\n",
    "plt.title(\"Drive up\")"
   ]
  },
  {
   "cell_type": "markdown",
   "id": "299df553",
   "metadata": {},
   "source": [
    "### What is the probability that no cars drive up in the noon hour?"
   ]
  },
  {
   "cell_type": "code",
   "execution_count": 4,
   "id": "6122bb15",
   "metadata": {},
   "outputs": [
    {
     "data": {
      "text/plain": [
       "0.1353352832366127"
      ]
     },
     "execution_count": 4,
     "metadata": {},
     "output_type": "execute_result"
    }
   ],
   "source": [
    "driveup.pmf(0)"
   ]
  },
  {
   "cell_type": "markdown",
   "id": "f16dbcb8",
   "metadata": {},
   "source": [
    "### What is the probability that 3 or more cars come through the drive through?"
   ]
  },
  {
   "cell_type": "code",
   "execution_count": 5,
   "id": "c039cb50",
   "metadata": {},
   "outputs": [
    {
     "data": {
      "text/plain": [
       "0.32332358381693654"
      ]
     },
     "execution_count": 5,
     "metadata": {},
     "output_type": "execute_result"
    }
   ],
   "source": [
    "driveup.sf(2) #sf returns greater than a number but not inclusive"
   ]
  },
  {
   "cell_type": "markdown",
   "id": "b01f43e4",
   "metadata": {},
   "source": [
    "### How likely is it that the drive through gets at least 1 car?"
   ]
  },
  {
   "cell_type": "code",
   "execution_count": 6,
   "id": "eef68b92",
   "metadata": {},
   "outputs": [
    {
     "data": {
      "text/plain": [
       "0.40600584970983794"
      ]
     },
     "execution_count": 6,
     "metadata": {},
     "output_type": "execute_result"
    }
   ],
   "source": [
    "driveup.cdf(1)"
   ]
  },
  {
   "cell_type": "markdown",
   "id": "1e86afa2",
   "metadata": {},
   "source": [
    "# #2 Grades of State University graduates are normally distributed with a mean of 3.0 and a standard deviation of .3. Calculate the following:"
   ]
  },
  {
   "cell_type": "code",
   "execution_count": 7,
   "id": "3c46f092",
   "metadata": {},
   "outputs": [],
   "source": [
    "n_simulations = 100_000\n",
    "average_grade = 3.0\n",
    "standard_deviation = .3\n",
    "grades = stats.norm(3, .3)\n",
    "x = grades.rvs(n_simulations)\n",
    "\n",
    "#plt.hist(x, bins=range(1, 4), align='left', width=1, edgecolor='black')\n",
    "#plt.title(\"Grades\")"
   ]
  },
  {
   "cell_type": "markdown",
   "id": "fb1e7540",
   "metadata": {},
   "source": [
    "### What grade point average is required to be in the top 5% of the graduating class?"
   ]
  },
  {
   "cell_type": "code",
   "execution_count": 8,
   "id": "f68932f6",
   "metadata": {},
   "outputs": [
    {
     "data": {
      "text/plain": [
       "4.299460493465657"
      ]
     },
     "execution_count": 8,
     "metadata": {},
     "output_type": "execute_result"
    }
   ],
   "source": [
    "x.max()"
   ]
  },
  {
   "cell_type": "code",
   "execution_count": 9,
   "id": "03fa3434",
   "metadata": {},
   "outputs": [
    {
     "data": {
      "text/plain": [
       "2.5065439119145583"
      ]
     },
     "execution_count": 9,
     "metadata": {},
     "output_type": "execute_result"
    }
   ],
   "source": [
    "grades.isf(.95)"
   ]
  },
  {
   "cell_type": "markdown",
   "id": "f3846979",
   "metadata": {},
   "source": [
    "### What GPA constitutes the bottom 15% of the class?"
   ]
  },
  {
   "cell_type": "code",
   "execution_count": 10,
   "id": "bd51d102",
   "metadata": {},
   "outputs": [
    {
     "data": {
      "text/plain": [
       "2.689069983151863"
      ]
     },
     "execution_count": 10,
     "metadata": {},
     "output_type": "execute_result"
    }
   ],
   "source": [
    "grades.ppf(.15)"
   ]
  },
  {
   "cell_type": "markdown",
   "id": "e6a65b56",
   "metadata": {},
   "source": [
    "### An eccentric alumnus left scholarship money for students in the third decile from the bottom of their class. Determine the range of the third decile. Would a student with a 2.8 grade point average qualify for this scholarship?"
   ]
  },
  {
   "cell_type": "code",
   "execution_count": 11,
   "id": "a578e72d",
   "metadata": {},
   "outputs": [
    {
     "data": {
      "text/plain": [
       "array([2.74751363, 2.84267985])"
      ]
     },
     "execution_count": 11,
     "metadata": {},
     "output_type": "execute_result"
    }
   ],
   "source": [
    "grades.ppf([.20, .30])"
   ]
  },
  {
   "cell_type": "markdown",
   "id": "4cd4b498",
   "metadata": {},
   "source": [
    "Yes, someone with a 2.8 grade would qualify for this scholarship"
   ]
  },
  {
   "cell_type": "markdown",
   "id": "3ab30eb0",
   "metadata": {},
   "source": [
    "### If I have a GPA of 3.5, what percentile am I in?"
   ]
  },
  {
   "cell_type": "code",
   "execution_count": 12,
   "id": "33fa491d",
   "metadata": {},
   "outputs": [
    {
     "data": {
      "text/plain": [
       "0.0477903522728147"
      ]
     },
     "execution_count": 12,
     "metadata": {},
     "output_type": "execute_result"
    }
   ],
   "source": [
    "grades.sf(3.5)"
   ]
  },
  {
   "cell_type": "markdown",
   "id": "fbb867b1",
   "metadata": {},
   "source": [
    "# #3 A marketing website has an average click-through rate of 2%. One day they observe 4326 visitors and 97 click-throughs. \n",
    "### How likely is it that this many people or more click through?"
   ]
  },
  {
   "cell_type": "code",
   "execution_count": 13,
   "id": "e1666a7d",
   "metadata": {},
   "outputs": [],
   "source": [
    "marketing_site = stats.binom(4326, .02)"
   ]
  },
  {
   "cell_type": "code",
   "execution_count": 14,
   "id": "cf1ab039",
   "metadata": {},
   "outputs": [
    {
     "data": {
      "text/plain": [
       "0.1397582363130086"
      ]
     },
     "execution_count": 14,
     "metadata": {},
     "output_type": "execute_result"
    }
   ],
   "source": [
    "marketing_site.sf(96)"
   ]
  },
  {
   "cell_type": "markdown",
   "id": "54dffeb0",
   "metadata": {},
   "source": [
    "# #4 You are working on some statistics homework consisting of 100 questions where all of the answers are a probability rounded to the hundreths place. Looking to save time, you put down random probabilities as the answer to each question."
   ]
  },
  {
   "cell_type": "markdown",
   "id": "20795a57",
   "metadata": {},
   "source": [
    "### What is the probability that at least one of your first 60 answers is correct?"
   ]
  },
  {
   "cell_type": "code",
   "execution_count": 15,
   "id": "5901bd15",
   "metadata": {},
   "outputs": [],
   "source": [
    "questions = stats.binom(60, .01)"
   ]
  },
  {
   "cell_type": "code",
   "execution_count": 16,
   "id": "be72cdad",
   "metadata": {},
   "outputs": [
    {
     "data": {
      "text/plain": [
       "0.4528433576092388"
      ]
     },
     "execution_count": 16,
     "metadata": {},
     "output_type": "execute_result"
    }
   ],
   "source": [
    "questions.sf(0)"
   ]
  },
  {
   "cell_type": "markdown",
   "id": "dc9742df",
   "metadata": {},
   "source": [
    "# #5 The codeup staff tends to get upset when the student break area is not cleaned up. Suppose that there's a 3% chance that any one student cleans the break area when they visit it, and, on any given day, about 90% of the 3 active cohorts of 22 students visit the break area.\n",
    "### How likely is it that the break area gets cleaned up each day?"
   ]
  },
  {
   "cell_type": "code",
   "execution_count": 39,
   "id": "5f3c2050",
   "metadata": {},
   "outputs": [],
   "source": [
    "number_of_students = (22*3)*.90"
   ]
  },
  {
   "cell_type": "code",
   "execution_count": 40,
   "id": "8d22d8ed",
   "metadata": {},
   "outputs": [
    {
     "data": {
      "text/plain": [
       "0.9725169680074238"
      ]
     },
     "execution_count": 40,
     "metadata": {},
     "output_type": "execute_result"
    }
   ],
   "source": [
    "cleanup.sf(0)"
   ]
  },
  {
   "cell_type": "markdown",
   "id": "dbdf7cab",
   "metadata": {},
   "source": [
    "### How likely is it that it goes two days without getting cleaned up?"
   ]
  },
  {
   "cell_type": "code",
   "execution_count": 43,
   "id": "4d58c8fe",
   "metadata": {},
   "outputs": [
    {
     "data": {
      "text/plain": [
       "0.026821436301629097"
      ]
     },
     "execution_count": 43,
     "metadata": {},
     "output_type": "execute_result"
    }
   ],
   "source": [
    "cleanup = stats.binom(number_of_students * 2, .03)\n",
    "cleanup.pmf(0)"
   ]
  },
  {
   "cell_type": "markdown",
   "id": "f8756029",
   "metadata": {},
   "source": [
    "### All Week?"
   ]
  },
  {
   "cell_type": "code",
   "execution_count": 45,
   "id": "ca557f19",
   "metadata": {},
   "outputs": [
    {
     "data": {
      "text/plain": [
       "0.00011781621791055166"
      ]
     },
     "execution_count": 45,
     "metadata": {},
     "output_type": "execute_result"
    }
   ],
   "source": [
    "cleanup = stats.binom(number_of_students * 5, .03)\n",
    "cleanup.pmf(0)"
   ]
  },
  {
   "cell_type": "markdown",
   "id": "1e5ec7c1",
   "metadata": {},
   "source": [
    "# #6 You want to get lunch at La Panaderia, but notice that the line is usually very long at lunchtime. After several weeks of careful observation, you notice that the average number of people in line when your lunch break starts is normally distributed with a mean of 15 and standard deviation of 3. \n",
    "### If it takes 2 minutes for each person to order, and 10 minutes from ordering to getting your food, what is the likelihood that you have at least 15 minutes left to eat your food before you have to go back to class? Assume you have one hour for lunch, and ignore travel time to and from La Panaderia."
   ]
  },
  {
   "cell_type": "code",
   "execution_count": 62,
   "id": "22c3c1c6",
   "metadata": {},
   "outputs": [],
   "source": [
    "μ = 15*2 # in min\n",
    "σ = 3 * 2 # in min\n",
    "\n",
    "people_in_line = stats.norm(μ, σ)"
   ]
  },
  {
   "cell_type": "code",
   "execution_count": 63,
   "id": "dbea9321",
   "metadata": {},
   "outputs": [
    {
     "data": {
      "text/plain": [
       "array([35.41282294, 28.00369903, 30.00186462, 30.7092841 , 20.1857137 ])"
      ]
     },
     "execution_count": 63,
     "metadata": {},
     "output_type": "execute_result"
    }
   ],
   "source": [
    "people_in_line.rvs(5)"
   ]
  },
  {
   "cell_type": "code",
   "execution_count": 65,
   "id": "781da382",
   "metadata": {},
   "outputs": [
    {
     "data": {
      "text/plain": [
       "0.6914624612740131"
      ]
     },
     "execution_count": 65,
     "metadata": {},
     "output_type": "execute_result"
    }
   ],
   "source": [
    "people_in_line.cdf(33)"
   ]
  },
  {
   "cell_type": "code",
   "execution_count": null,
   "id": "38d39c75",
   "metadata": {},
   "outputs": [],
   "source": []
  },
  {
   "cell_type": "markdown",
   "id": "3489d919",
   "metadata": {},
   "source": [
    "# 7 Connect to the employees database and find the average salary of current employees, along with the standard deviation. For the following questions, calculate the answer based on modeling the employees salaries with a normal distribution defined by the calculated mean and standard deviation then compare this answer to the actual values present in the salaries dataset."
   ]
  },
  {
   "cell_type": "code",
   "execution_count": 97,
   "id": "d5f96fd1",
   "metadata": {},
   "outputs": [],
   "source": [
    "salaries = pd.read_sql(\"SELECT * FROM salaries WHERE to_date > NOW()\", get_db_url())"
   ]
  },
  {
   "cell_type": "code",
   "execution_count": 98,
   "id": "a0a855c2",
   "metadata": {},
   "outputs": [
    {
     "name": "stdout",
     "output_type": "stream",
     "text": [
      "<class 'pandas.core.frame.DataFrame'>\n",
      "RangeIndex: 240124 entries, 0 to 240123\n",
      "Data columns (total 4 columns):\n",
      " #   Column     Non-Null Count   Dtype \n",
      "---  ------     --------------   ----- \n",
      " 0   emp_no     240124 non-null  int64 \n",
      " 1   salary     240124 non-null  int64 \n",
      " 2   from_date  240124 non-null  object\n",
      " 3   to_date    240124 non-null  object\n",
      "dtypes: int64(2), object(2)\n",
      "memory usage: 7.3+ MB\n"
     ]
    }
   ],
   "source": [
    "salaries.info()"
   ]
  },
  {
   "cell_type": "markdown",
   "id": "a340c5b2",
   "metadata": {},
   "source": [
    "### What percent of employees earn less than 60,000?"
   ]
  },
  {
   "cell_type": "code",
   "execution_count": 105,
   "id": "3d42f19e",
   "metadata": {},
   "outputs": [],
   "source": [
    "actual  = (salaries[\"salary\"] < 60000).mean()"
   ]
  },
  {
   "cell_type": "code",
   "execution_count": 106,
   "id": "4c23d6e7",
   "metadata": {},
   "outputs": [
    {
     "data": {
      "text/plain": [
       "0.2705727041028802"
      ]
     },
     "execution_count": 106,
     "metadata": {},
     "output_type": "execute_result"
    }
   ],
   "source": [
    "actual"
   ]
  },
  {
   "cell_type": "code",
   "execution_count": 108,
   "id": "acbbcb3b",
   "metadata": {},
   "outputs": [],
   "source": [
    "mean = salaries[\"salary\"].mean()"
   ]
  },
  {
   "cell_type": "code",
   "execution_count": 107,
   "id": "e2614cf8",
   "metadata": {},
   "outputs": [],
   "source": [
    "std = salaries[\"salary\"].std()"
   ]
  },
  {
   "cell_type": "code",
   "execution_count": 109,
   "id": "417b5691",
   "metadata": {},
   "outputs": [],
   "source": [
    "wage_distro = stats.norm(mean, std)"
   ]
  },
  {
   "cell_type": "code",
   "execution_count": 110,
   "id": "37d769da",
   "metadata": {},
   "outputs": [
    {
     "data": {
      "text/plain": [
       "0.24385742480214423"
      ]
     },
     "execution_count": 110,
     "metadata": {},
     "output_type": "execute_result"
    }
   ],
   "source": [
    "wage_distro.cdf(60000)"
   ]
  },
  {
   "cell_type": "code",
   "execution_count": null,
   "id": "11d797f9",
   "metadata": {},
   "outputs": [],
   "source": []
  },
  {
   "cell_type": "markdown",
   "id": "ff83c66f",
   "metadata": {},
   "source": [
    "### What percent of employees earn more than 95,000?"
   ]
  },
  {
   "cell_type": "code",
   "execution_count": null,
   "id": "deecfd29",
   "metadata": {},
   "outputs": [],
   "source": []
  },
  {
   "cell_type": "markdown",
   "id": "5f6cb812",
   "metadata": {},
   "source": [
    "### What percent of employees earn between 65,000 and 80,000?"
   ]
  },
  {
   "cell_type": "code",
   "execution_count": null,
   "id": "c0a640cd",
   "metadata": {},
   "outputs": [],
   "source": []
  },
  {
   "cell_type": "markdown",
   "id": "8e491400",
   "metadata": {},
   "source": [
    "### What do the top 5% of employees make?"
   ]
  },
  {
   "cell_type": "code",
   "execution_count": null,
   "id": "f7975938",
   "metadata": {},
   "outputs": [],
   "source": []
  }
 ],
 "metadata": {
  "kernelspec": {
   "display_name": "Python 3",
   "language": "python",
   "name": "python3"
  },
  "language_info": {
   "codemirror_mode": {
    "name": "ipython",
    "version": 3
   },
   "file_extension": ".py",
   "mimetype": "text/x-python",
   "name": "python",
   "nbconvert_exporter": "python",
   "pygments_lexer": "ipython3",
   "version": "3.8.8"
  }
 },
 "nbformat": 4,
 "nbformat_minor": 5
}
