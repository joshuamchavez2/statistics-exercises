{
 "cells": [
  {
   "cell_type": "markdown",
   "id": "605955aa",
   "metadata": {},
   "source": [
    "# #1 A bank found that the average number of cars waiting during the noon hour at a drive-up window follows a Poisson distribution with a mean of 2 cars.\n",
    "\n",
    "### Make a chart of this distribution and answer these questions concerning the probability of cars waiting at the drive-up window."
   ]
  },
  {
   "cell_type": "code",
   "execution_count": null,
   "id": "c9765240",
   "metadata": {},
   "outputs": [],
   "source": []
  },
  {
   "cell_type": "markdown",
   "id": "e6b5daa4",
   "metadata": {},
   "source": [
    "### What is the probability that no cars drive up in the noon hour?"
   ]
  },
  {
   "cell_type": "code",
   "execution_count": null,
   "id": "4dfa1848",
   "metadata": {},
   "outputs": [],
   "source": []
  },
  {
   "cell_type": "markdown",
   "id": "df550306",
   "metadata": {},
   "source": [
    "### What is the probability that 3 or more cars come through the drive through?"
   ]
  },
  {
   "cell_type": "code",
   "execution_count": null,
   "id": "68eb3eb3",
   "metadata": {},
   "outputs": [],
   "source": []
  },
  {
   "cell_type": "markdown",
   "id": "82e117af",
   "metadata": {},
   "source": [
    "### How likely is it that the drive through gets at least 1 car?"
   ]
  },
  {
   "cell_type": "code",
   "execution_count": null,
   "id": "5f43d88e",
   "metadata": {},
   "outputs": [],
   "source": []
  },
  {
   "cell_type": "markdown",
   "id": "fb013534",
   "metadata": {},
   "source": [
    "# #2 Grades of State University graduates are normally distributed with a mean of 3.0 and a standard deviation of .3. Calculate the following:"
   ]
  },
  {
   "cell_type": "code",
   "execution_count": null,
   "id": "e8020ab6",
   "metadata": {},
   "outputs": [],
   "source": []
  },
  {
   "cell_type": "markdown",
   "id": "b37b316c",
   "metadata": {},
   "source": [
    "### What grade point average is required to be in the top 5% of the graduating class?"
   ]
  },
  {
   "cell_type": "code",
   "execution_count": null,
   "id": "1fc55e64",
   "metadata": {},
   "outputs": [],
   "source": []
  },
  {
   "cell_type": "markdown",
   "id": "e3bdd17b",
   "metadata": {},
   "source": [
    "### What GPA constitutes the bottom 15% of the class?"
   ]
  },
  {
   "cell_type": "code",
   "execution_count": null,
   "id": "e0aeb5e3",
   "metadata": {},
   "outputs": [],
   "source": []
  },
  {
   "cell_type": "markdown",
   "id": "24daa21e",
   "metadata": {},
   "source": [
    "### An eccentric alumnus left scholarship money for students in the third decile from the bottom of their class. Determine the range of the third decile. Would a student with a 2.8 grade point average qualify for this scholarship?"
   ]
  },
  {
   "cell_type": "code",
   "execution_count": null,
   "id": "e48df359",
   "metadata": {},
   "outputs": [],
   "source": []
  },
  {
   "cell_type": "markdown",
   "id": "1b312269",
   "metadata": {},
   "source": [
    "### If I have a GPA of 3.5, what percentile am I in?"
   ]
  },
  {
   "cell_type": "code",
   "execution_count": null,
   "id": "e7634867",
   "metadata": {},
   "outputs": [],
   "source": []
  },
  {
   "cell_type": "markdown",
   "id": "167cc2d8",
   "metadata": {},
   "source": [
    "# #3 A marketing website has an average click-through rate of 2%. One day they observe 4326 visitors and 97 click-throughs. \n",
    "### How likely is it that this many people or more click through?"
   ]
  },
  {
   "cell_type": "code",
   "execution_count": null,
   "id": "095420ec",
   "metadata": {},
   "outputs": [],
   "source": []
  },
  {
   "cell_type": "markdown",
   "id": "73f5026d",
   "metadata": {},
   "source": [
    "# #4 You are working on some statistics homework consisting of 100 questions where all of the answers are a probability rounded to the hundreths place. Looking to save time, you put down random probabilities as the answer to each question."
   ]
  },
  {
   "cell_type": "markdown",
   "id": "9dd8c11f",
   "metadata": {},
   "source": [
    "### What is the probability that at least one of your first 60 answers is correct?"
   ]
  },
  {
   "cell_type": "code",
   "execution_count": null,
   "id": "da28403b",
   "metadata": {},
   "outputs": [],
   "source": []
  },
  {
   "cell_type": "markdown",
   "id": "434ab1f6",
   "metadata": {},
   "source": [
    "# #5 The codeup staff tends to get upset when the student break area is not cleaned up. Suppose that there's a 3% chance that any one student cleans the break area when they visit it, and, on any given day, about 90% of the 3 active cohorts of 22 students visit the break area.\n",
    "### How likely is it that the break area gets cleaned up each day?"
   ]
  },
  {
   "cell_type": "code",
   "execution_count": null,
   "id": "9d0c22da",
   "metadata": {},
   "outputs": [],
   "source": []
  },
  {
   "cell_type": "markdown",
   "id": "13e24d0b",
   "metadata": {},
   "source": [
    "### How likely is it that it goes two days without getting cleaned up?"
   ]
  },
  {
   "cell_type": "code",
   "execution_count": null,
   "id": "b749dc01",
   "metadata": {},
   "outputs": [],
   "source": []
  },
  {
   "cell_type": "markdown",
   "id": "6064d275",
   "metadata": {},
   "source": [
    "### All Week?"
   ]
  },
  {
   "cell_type": "code",
   "execution_count": null,
   "id": "52c05cc1",
   "metadata": {},
   "outputs": [],
   "source": []
  },
  {
   "cell_type": "markdown",
   "id": "a13c6f59",
   "metadata": {},
   "source": [
    "# #6 You want to get lunch at La Panaderia, but notice that the line is usually very long at lunchtime. After several weeks of careful observation, you notice that the average number of people in line when your lunch break starts is normally distributed with a mean of 15 and standard deviation of 3. \n",
    "### If it takes 2 minutes for each person to order, and 10 minutes from ordering to getting your food, what is the likelihood that you have at least 15 minutes left to eat your food before you have to go back to class? Assume you have one hour for lunch, and ignore travel time to and from La Panaderia."
   ]
  },
  {
   "cell_type": "code",
   "execution_count": null,
   "id": "124b442f",
   "metadata": {},
   "outputs": [],
   "source": []
  },
  {
   "cell_type": "markdown",
   "id": "c3615a97",
   "metadata": {},
   "source": [
    "# 7 Connect to the employees database and find the average salary of current employees, along with the standard deviation. For the following questions, calculate the answer based on modeling the employees salaries with a normal distribution defined by the calculated mean and standard deviation then compare this answer to the actual values present in the salaries dataset."
   ]
  },
  {
   "cell_type": "code",
   "execution_count": null,
   "id": "a6ac13e2",
   "metadata": {},
   "outputs": [],
   "source": []
  },
  {
   "cell_type": "markdown",
   "id": "abc17552",
   "metadata": {},
   "source": [
    "### What percent of employees earn less than 60,000?"
   ]
  },
  {
   "cell_type": "code",
   "execution_count": null,
   "id": "3f458ee5",
   "metadata": {},
   "outputs": [],
   "source": []
  },
  {
   "cell_type": "markdown",
   "id": "d475a3fe",
   "metadata": {},
   "source": [
    "### What percent of employees earn more than 95,000?"
   ]
  },
  {
   "cell_type": "code",
   "execution_count": null,
   "id": "03939799",
   "metadata": {},
   "outputs": [],
   "source": []
  },
  {
   "cell_type": "markdown",
   "id": "0adff564",
   "metadata": {},
   "source": [
    "### What percent of employees earn between 65,000 and 80,000?"
   ]
  },
  {
   "cell_type": "code",
   "execution_count": null,
   "id": "e66ec066",
   "metadata": {},
   "outputs": [],
   "source": []
  },
  {
   "cell_type": "markdown",
   "id": "200f2492",
   "metadata": {},
   "source": [
    "### What do the top 5% of employees make?"
   ]
  },
  {
   "cell_type": "code",
   "execution_count": null,
   "id": "06dbd771",
   "metadata": {},
   "outputs": [],
   "source": []
  }
 ],
 "metadata": {
  "kernelspec": {
   "display_name": "Python 3",
   "language": "python",
   "name": "python3"
  },
  "language_info": {
   "codemirror_mode": {
    "name": "ipython",
    "version": 3
   },
   "file_extension": ".py",
   "mimetype": "text/x-python",
   "name": "python",
   "nbconvert_exporter": "python",
   "pygments_lexer": "ipython3",
   "version": "3.8.8"
  }
 },
 "nbformat": 4,
 "nbformat_minor": 5
}
